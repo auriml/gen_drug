{
 "cells": [
  {
   "cell_type": "code",
   "execution_count": 1,
   "metadata": {
    "collapsed": true
   },
   "outputs": [],
   "source": [
    "##Preparing data as per https://doi.org/10.1186/s12920-018-0460-9 \n",
    "##Predicting drug response of tumors from integrated genomic profiles by deep neural networks\n",
    "##Yu-Chiao Chiu, Hung-I Harry Chen, Tinghe Zhang, Songyao Zhang, Aparna Gorthi, Li-Ju Wang, Yufei Huang"
   ]
  },
  {
   "cell_type": "code",
   "execution_count": 2,
   "metadata": {
    "collapsed": true
   },
   "outputs": [],
   "source": [
    "import pandas as pd\n",
    "import numpy as np\n",
    "import h5py"
   ]
  },
  {
   "cell_type": "code",
   "execution_count": 3,
   "metadata": {
    "collapsed": true
   },
   "outputs": [],
   "source": [
    "#TCGA_exp = pd.read_csv('counts_gene.tsv', delimiter='\\t')  --> TCGA exp downloaded from GDC Portal is not used , it contains FPKM instead of TPM, \n",
    "#while those downloaded from https://amp.pharm.mssm.edu/archs4/download.html  contains a selection of 25.150 genes"
   ]
  },
  {
   "cell_type": "code",
   "execution_count": 4,
   "metadata": {
    "collapsed": true
   },
   "outputs": [],
   "source": [
    "#print(TCGA_exp.shape)\n",
    "#TCGA_exp.columns[-1]"
   ]
  },
  {
   "cell_type": "code",
   "execution_count": 5,
   "metadata": {
    "collapsed": true
   },
   "outputs": [],
   "source": [
    "#TCGA_exp.loc[TCGA_exp['3DFF72D2-F292-497E-ACE3-6FAA9C884205'] == 439935,'gene_id']"
   ]
  },
  {
   "cell_type": "code",
   "execution_count": 6,
   "metadata": {
    "collapsed": true
   },
   "outputs": [],
   "source": [
    "import mygene\n",
    "mg = mygene.MyGeneInfo()\n",
    "mg.getgene('ENSGR0000223511', 'name,symbol,refseq.rna') "
   ]
  },
  {
   "cell_type": "code",
   "execution_count": 7,
   "metadata": {},
   "outputs": [
    {
     "data": {
      "text/plain": [
       "{'_id': '150465',\n",
       " '_score': 13.8292675,\n",
       " 'name': 'tubulin tyrosine ligase',\n",
       " 'refseq': {'rna': ['NM_153712.5', 'XM_005263599.3', 'XM_011510665.2']},\n",
       " 'symbol': 'TTL'}"
      ]
     },
     "execution_count": 7,
     "metadata": {},
     "output_type": "execute_result"
    }
   ],
   "source": [
    "mg.getgene(150465, 'name,symbol,refseq.rna')"
   ]
  },
  {
   "cell_type": "code",
   "execution_count": 8,
   "metadata": {},
   "outputs": [
    {
     "name": "stdout",
     "output_type": "stream",
     "text": [
      "(31049, 36)\n"
     ]
    },
    {
     "name": "stderr",
     "output_type": "stream",
     "text": [
      "/home/auri/anaconda3/envs/gen/lib/python3.6/site-packages/IPython/core/interactiveshell.py:3020: DtypeWarning: Columns (10) have mixed types. Specify dtype option on import or set low_memory=False.\n",
      "  interactivity=interactivity, compiler=compiler, result=result)\n"
     ]
    },
    {
     "data": {
      "text/plain": [
       "(21800, 37)"
      ]
     },
     "execution_count": 8,
     "metadata": {},
     "output_type": "execute_result"
    }
   ],
   "source": [
    "#sample_submitter_id from /maf_TCGA/sample.tsv\n",
    "TCGA_meta = pd.read_csv('./maf_TCGA/sample.tsv', delimiter='\\t')\n",
    "print(TCGA_meta.shape)\n",
    "TCGA_meta['sample_submitter'] = TCGA_meta['sample_submitter_id'].str[:-1]\n",
    "TCGA_meta = TCGA_meta.drop_duplicates(subset='sample_submitter', keep='first')\n",
    "TCGA_meta.shape"
   ]
  },
  {
   "cell_type": "code",
   "execution_count": 9,
   "metadata": {
    "collapsed": true
   },
   "outputs": [],
   "source": [
    "TCGA_exp = pd.read_csv('TreehousePEDv5_unique_hugo_log2_tpm_plus_1.2018-05-09.tsv', delimiter='\\t' , index_col=0)"
   ]
  },
  {
   "cell_type": "code",
   "execution_count": 10,
   "metadata": {},
   "outputs": [
    {
     "name": "stdout",
     "output_type": "stream",
     "text": [
      "(11258, 58581)\n",
      "9327\n"
     ]
    },
    {
     "data": {
      "text/html": [
       "<div>\n",
       "<style scoped>\n",
       "    .dataframe tbody tr th:only-of-type {\n",
       "        vertical-align: middle;\n",
       "    }\n",
       "\n",
       "    .dataframe tbody tr th {\n",
       "        vertical-align: top;\n",
       "    }\n",
       "\n",
       "    .dataframe thead th {\n",
       "        text-align: right;\n",
       "    }\n",
       "</style>\n",
       "<table border=\"1\" class=\"dataframe\">\n",
       "  <thead>\n",
       "    <tr style=\"text-align: right;\">\n",
       "      <th></th>\n",
       "      <th>sample_id</th>\n",
       "      <th>sample_submitter_id</th>\n",
       "      <th>case_id</th>\n",
       "      <th>case_submitter_id</th>\n",
       "      <th>project_id</th>\n",
       "      <th>sample_type_id</th>\n",
       "      <th>time_between_excision_and_freezing</th>\n",
       "      <th>oct_embedded</th>\n",
       "      <th>tumor_code_id</th>\n",
       "      <th>intermediate_dimension</th>\n",
       "      <th>...</th>\n",
       "      <th>biospecimen_laterality</th>\n",
       "      <th>days_to_sample_procurement</th>\n",
       "      <th>freezing_method</th>\n",
       "      <th>preservation_method</th>\n",
       "      <th>growth_rate</th>\n",
       "      <th>days_to_collection</th>\n",
       "      <th>catalog_reference</th>\n",
       "      <th>initial_weight</th>\n",
       "      <th>longest_dimension</th>\n",
       "      <th>sample_submitter</th>\n",
       "    </tr>\n",
       "  </thead>\n",
       "  <tbody>\n",
       "    <tr>\n",
       "      <th>20156</th>\n",
       "      <td>9e5f2355-b872-4b5a-94f1-6eef49bb73de</td>\n",
       "      <td>TCGA-02-0047-01A</td>\n",
       "      <td>3caf009f-d9e0-4c57-b1d9-8eb59fc833bd</td>\n",
       "      <td>TCGA-02-0047</td>\n",
       "      <td>TCGA-GBM</td>\n",
       "      <td>1</td>\n",
       "      <td>--</td>\n",
       "      <td>--</td>\n",
       "      <td>--</td>\n",
       "      <td>--</td>\n",
       "      <td>...</td>\n",
       "      <td>--</td>\n",
       "      <td>--</td>\n",
       "      <td>--</td>\n",
       "      <td>--</td>\n",
       "      <td>--</td>\n",
       "      <td>--</td>\n",
       "      <td>--</td>\n",
       "      <td>--</td>\n",
       "      <td>--</td>\n",
       "      <td>TCGA-02-0047-01</td>\n",
       "    </tr>\n",
       "  </tbody>\n",
       "</table>\n",
       "<p>1 rows × 37 columns</p>\n",
       "</div>"
      ],
      "text/plain": [
       "                                  sample_id sample_submitter_id  \\\n",
       "20156  9e5f2355-b872-4b5a-94f1-6eef49bb73de    TCGA-02-0047-01A   \n",
       "\n",
       "                                    case_id case_submitter_id project_id  \\\n",
       "20156  3caf009f-d9e0-4c57-b1d9-8eb59fc833bd      TCGA-02-0047   TCGA-GBM   \n",
       "\n",
       "       sample_type_id time_between_excision_and_freezing oct_embedded  \\\n",
       "20156               1                                 --           --   \n",
       "\n",
       "      tumor_code_id intermediate_dimension  ... biospecimen_laterality  \\\n",
       "20156            --                     --  ...                     --   \n",
       "\n",
       "      days_to_sample_procurement freezing_method preservation_method  \\\n",
       "20156                         --              --                  --   \n",
       "\n",
       "      growth_rate days_to_collection catalog_reference initial_weight  \\\n",
       "20156          --                 --                --             --   \n",
       "\n",
       "      longest_dimension sample_submitter  \n",
       "20156                --  TCGA-02-0047-01  \n",
       "\n",
       "[1 rows x 37 columns]"
      ]
     },
     "execution_count": 10,
     "metadata": {},
     "output_type": "execute_result"
    }
   ],
   "source": [
    "TCGA_transposed = TCGA_exp.transpose()\n",
    "print(TCGA_transposed.shape)\n",
    "\n",
    "print(len(set(TCGA_meta['sample_submitter'].values) & set(TCGA_transposed.index.values)))\n",
    "TCGA_meta.loc[TCGA_meta['sample_submitter'].isin(['TCGA-02-0047-01']),:]"
   ]
  },
  {
   "cell_type": "code",
   "execution_count": 11,
   "metadata": {
    "collapsed": true
   },
   "outputs": [],
   "source": [
    "TCGA_exp_matrix = pd.merge(TCGA_meta[['sample_submitter','case_id']], TCGA_transposed, left_on = 'sample_submitter', right_on = TCGA_transposed.index)\n"
   ]
  },
  {
   "cell_type": "code",
   "execution_count": 12,
   "metadata": {
    "collapsed": true
   },
   "outputs": [],
   "source": [
    "TCGA_exp_matrix.drop(columns='sample_submitter',inplace=True)"
   ]
  },
  {
   "cell_type": "code",
   "execution_count": 13,
   "metadata": {
    "collapsed": true
   },
   "outputs": [],
   "source": [
    "TCGA_exp_matrix.index = TCGA_exp_matrix.case_id"
   ]
  },
  {
   "cell_type": "code",
   "execution_count": 14,
   "metadata": {
    "collapsed": true
   },
   "outputs": [],
   "source": [
    "TCGA_exp_matrix = TCGA_exp_matrix.transpose()\n"
   ]
  },
  {
   "cell_type": "code",
   "execution_count": 15,
   "metadata": {
    "collapsed": true
   },
   "outputs": [],
   "source": [
    "TCGA_exp_matrix.drop(index = 'case_id', inplace = True)"
   ]
  },
  {
   "cell_type": "code",
   "execution_count": 16,
   "metadata": {
    "collapsed": true
   },
   "outputs": [],
   "source": [
    "TCGA_exp_matrix.columns.name = None"
   ]
  },
  {
   "cell_type": "code",
   "execution_count": 17,
   "metadata": {},
   "outputs": [
    {
     "data": {
      "text/html": [
       "<div>\n",
       "<style scoped>\n",
       "    .dataframe tbody tr th:only-of-type {\n",
       "        vertical-align: middle;\n",
       "    }\n",
       "\n",
       "    .dataframe tbody tr th {\n",
       "        vertical-align: top;\n",
       "    }\n",
       "\n",
       "    .dataframe thead th {\n",
       "        text-align: right;\n",
       "    }\n",
       "</style>\n",
       "<table border=\"1\" class=\"dataframe\">\n",
       "  <thead>\n",
       "    <tr style=\"text-align: right;\">\n",
       "      <th></th>\n",
       "      <th>d3b7ada6-5395-4212-a921-8e97c92b605d</th>\n",
       "      <th>065f7b7a-05ee-4728-bcfc-6095357512a6</th>\n",
       "      <th>065f7b7a-05ee-4728-bcfc-6095357512a6</th>\n",
       "      <th>c328f661-c109-4e01-b819-299a75bd4348</th>\n",
       "      <th>ebe927e6-0a7e-4c97-ad73-f3c302cca7bc</th>\n",
       "      <th>c739fd61-22b2-412d-bcf3-89bda45a2c0f</th>\n",
       "      <th>a7fd6522-8953-461f-9e5f-fdeb7d180d46</th>\n",
       "      <th>75fb484d-cd12-4cf0-a99d-faf27aead118</th>\n",
       "      <th>86d1e388-b30f-48fd-9647-3848eb6134f1</th>\n",
       "      <th>2b715eb2-055e-4bc5-bc98-128e8bf6954f</th>\n",
       "      <th>...</th>\n",
       "      <th>4dc5cffe-ed8c-47ab-b5fc-f9615b5414f7</th>\n",
       "      <th>40551d53-388b-4067-9341-76e94d023703</th>\n",
       "      <th>0775583e-c0a0-4f18-9ca2-8f89cedce3d6</th>\n",
       "      <th>e76cf9a0-061e-4a7d-ba28-5a40b8da54b8</th>\n",
       "      <th>5166d82f-7b22-4101-bea9-6056e5a74c48</th>\n",
       "      <th>5cf3911a-f3ea-4c0e-851d-5bb57ca7190f</th>\n",
       "      <th>aaacf22c-2362-4613-b024-88fb7dd1cca1</th>\n",
       "      <th>95b69517-4971-450e-9ed0-43bc8b2c0534</th>\n",
       "      <th>b4f7f9e4-5fc5-4461-8e0b-0b6c384863c6</th>\n",
       "      <th>180a2b9c-9cac-4d96-86e8-cd6b3b9386b5</th>\n",
       "    </tr>\n",
       "  </thead>\n",
       "  <tbody>\n",
       "    <tr>\n",
       "      <th>5S_rRNA</th>\n",
       "      <td>0</td>\n",
       "      <td>0</td>\n",
       "      <td>0</td>\n",
       "      <td>0</td>\n",
       "      <td>0</td>\n",
       "      <td>0</td>\n",
       "      <td>0</td>\n",
       "      <td>0</td>\n",
       "      <td>0</td>\n",
       "      <td>0</td>\n",
       "      <td>...</td>\n",
       "      <td>0</td>\n",
       "      <td>0</td>\n",
       "      <td>0</td>\n",
       "      <td>0</td>\n",
       "      <td>0</td>\n",
       "      <td>0</td>\n",
       "      <td>0</td>\n",
       "      <td>0</td>\n",
       "      <td>0</td>\n",
       "      <td>0</td>\n",
       "    </tr>\n",
       "    <tr>\n",
       "      <th>5_8S_rRNA</th>\n",
       "      <td>0</td>\n",
       "      <td>0</td>\n",
       "      <td>0</td>\n",
       "      <td>0</td>\n",
       "      <td>0</td>\n",
       "      <td>0</td>\n",
       "      <td>0</td>\n",
       "      <td>0</td>\n",
       "      <td>0</td>\n",
       "      <td>0</td>\n",
       "      <td>...</td>\n",
       "      <td>0</td>\n",
       "      <td>0</td>\n",
       "      <td>0</td>\n",
       "      <td>0</td>\n",
       "      <td>0</td>\n",
       "      <td>0</td>\n",
       "      <td>0</td>\n",
       "      <td>0</td>\n",
       "      <td>0</td>\n",
       "      <td>0</td>\n",
       "    </tr>\n",
       "    <tr>\n",
       "      <th>7SK</th>\n",
       "      <td>0</td>\n",
       "      <td>0</td>\n",
       "      <td>0</td>\n",
       "      <td>0</td>\n",
       "      <td>0</td>\n",
       "      <td>0</td>\n",
       "      <td>0</td>\n",
       "      <td>0</td>\n",
       "      <td>0.224475</td>\n",
       "      <td>0</td>\n",
       "      <td>...</td>\n",
       "      <td>0.583365</td>\n",
       "      <td>0</td>\n",
       "      <td>0</td>\n",
       "      <td>0</td>\n",
       "      <td>0</td>\n",
       "      <td>0</td>\n",
       "      <td>0.201713</td>\n",
       "      <td>0</td>\n",
       "      <td>0.04733</td>\n",
       "      <td>0</td>\n",
       "    </tr>\n",
       "    <tr>\n",
       "      <th>A1BG</th>\n",
       "      <td>1.96719</td>\n",
       "      <td>6.04677</td>\n",
       "      <td>6.47885</td>\n",
       "      <td>1.42767</td>\n",
       "      <td>5.45973</td>\n",
       "      <td>4.06349</td>\n",
       "      <td>1.60884</td>\n",
       "      <td>3.91263</td>\n",
       "      <td>1.98914</td>\n",
       "      <td>3.80017</td>\n",
       "      <td>...</td>\n",
       "      <td>2.85405</td>\n",
       "      <td>0.669106</td>\n",
       "      <td>1.18278</td>\n",
       "      <td>3.71367</td>\n",
       "      <td>5.40092</td>\n",
       "      <td>6.50061</td>\n",
       "      <td>3.53732</td>\n",
       "      <td>6.06716</td>\n",
       "      <td>3.02502</td>\n",
       "      <td>8.42211</td>\n",
       "    </tr>\n",
       "    <tr>\n",
       "      <th>A1BG-AS1</th>\n",
       "      <td>0.748536</td>\n",
       "      <td>3.04443</td>\n",
       "      <td>2.92221</td>\n",
       "      <td>0.495795</td>\n",
       "      <td>2.74851</td>\n",
       "      <td>1.69601</td>\n",
       "      <td>0.722542</td>\n",
       "      <td>1.85204</td>\n",
       "      <td>0.65087</td>\n",
       "      <td>2.00361</td>\n",
       "      <td>...</td>\n",
       "      <td>1.64619</td>\n",
       "      <td>0.298782</td>\n",
       "      <td>0.660012</td>\n",
       "      <td>0.790837</td>\n",
       "      <td>3.27802</td>\n",
       "      <td>0.978248</td>\n",
       "      <td>1.42227</td>\n",
       "      <td>0.443721</td>\n",
       "      <td>1.48548</td>\n",
       "      <td>0.623024</td>\n",
       "    </tr>\n",
       "  </tbody>\n",
       "</table>\n",
       "<p>5 rows × 9327 columns</p>\n",
       "</div>"
      ],
      "text/plain": [
       "          d3b7ada6-5395-4212-a921-8e97c92b605d  \\\n",
       "5S_rRNA                                      0   \n",
       "5_8S_rRNA                                    0   \n",
       "7SK                                          0   \n",
       "A1BG                                   1.96719   \n",
       "A1BG-AS1                              0.748536   \n",
       "\n",
       "          065f7b7a-05ee-4728-bcfc-6095357512a6  \\\n",
       "5S_rRNA                                      0   \n",
       "5_8S_rRNA                                    0   \n",
       "7SK                                          0   \n",
       "A1BG                                   6.04677   \n",
       "A1BG-AS1                               3.04443   \n",
       "\n",
       "          065f7b7a-05ee-4728-bcfc-6095357512a6  \\\n",
       "5S_rRNA                                      0   \n",
       "5_8S_rRNA                                    0   \n",
       "7SK                                          0   \n",
       "A1BG                                   6.47885   \n",
       "A1BG-AS1                               2.92221   \n",
       "\n",
       "          c328f661-c109-4e01-b819-299a75bd4348  \\\n",
       "5S_rRNA                                      0   \n",
       "5_8S_rRNA                                    0   \n",
       "7SK                                          0   \n",
       "A1BG                                   1.42767   \n",
       "A1BG-AS1                              0.495795   \n",
       "\n",
       "          ebe927e6-0a7e-4c97-ad73-f3c302cca7bc  \\\n",
       "5S_rRNA                                      0   \n",
       "5_8S_rRNA                                    0   \n",
       "7SK                                          0   \n",
       "A1BG                                   5.45973   \n",
       "A1BG-AS1                               2.74851   \n",
       "\n",
       "          c739fd61-22b2-412d-bcf3-89bda45a2c0f  \\\n",
       "5S_rRNA                                      0   \n",
       "5_8S_rRNA                                    0   \n",
       "7SK                                          0   \n",
       "A1BG                                   4.06349   \n",
       "A1BG-AS1                               1.69601   \n",
       "\n",
       "          a7fd6522-8953-461f-9e5f-fdeb7d180d46  \\\n",
       "5S_rRNA                                      0   \n",
       "5_8S_rRNA                                    0   \n",
       "7SK                                          0   \n",
       "A1BG                                   1.60884   \n",
       "A1BG-AS1                              0.722542   \n",
       "\n",
       "          75fb484d-cd12-4cf0-a99d-faf27aead118  \\\n",
       "5S_rRNA                                      0   \n",
       "5_8S_rRNA                                    0   \n",
       "7SK                                          0   \n",
       "A1BG                                   3.91263   \n",
       "A1BG-AS1                               1.85204   \n",
       "\n",
       "          86d1e388-b30f-48fd-9647-3848eb6134f1  \\\n",
       "5S_rRNA                                      0   \n",
       "5_8S_rRNA                                    0   \n",
       "7SK                                   0.224475   \n",
       "A1BG                                   1.98914   \n",
       "A1BG-AS1                               0.65087   \n",
       "\n",
       "          2b715eb2-055e-4bc5-bc98-128e8bf6954f  ...  \\\n",
       "5S_rRNA                                      0  ...   \n",
       "5_8S_rRNA                                    0  ...   \n",
       "7SK                                          0  ...   \n",
       "A1BG                                   3.80017  ...   \n",
       "A1BG-AS1                               2.00361  ...   \n",
       "\n",
       "          4dc5cffe-ed8c-47ab-b5fc-f9615b5414f7  \\\n",
       "5S_rRNA                                      0   \n",
       "5_8S_rRNA                                    0   \n",
       "7SK                                   0.583365   \n",
       "A1BG                                   2.85405   \n",
       "A1BG-AS1                               1.64619   \n",
       "\n",
       "          40551d53-388b-4067-9341-76e94d023703  \\\n",
       "5S_rRNA                                      0   \n",
       "5_8S_rRNA                                    0   \n",
       "7SK                                          0   \n",
       "A1BG                                  0.669106   \n",
       "A1BG-AS1                              0.298782   \n",
       "\n",
       "          0775583e-c0a0-4f18-9ca2-8f89cedce3d6  \\\n",
       "5S_rRNA                                      0   \n",
       "5_8S_rRNA                                    0   \n",
       "7SK                                          0   \n",
       "A1BG                                   1.18278   \n",
       "A1BG-AS1                              0.660012   \n",
       "\n",
       "          e76cf9a0-061e-4a7d-ba28-5a40b8da54b8  \\\n",
       "5S_rRNA                                      0   \n",
       "5_8S_rRNA                                    0   \n",
       "7SK                                          0   \n",
       "A1BG                                   3.71367   \n",
       "A1BG-AS1                              0.790837   \n",
       "\n",
       "          5166d82f-7b22-4101-bea9-6056e5a74c48  \\\n",
       "5S_rRNA                                      0   \n",
       "5_8S_rRNA                                    0   \n",
       "7SK                                          0   \n",
       "A1BG                                   5.40092   \n",
       "A1BG-AS1                               3.27802   \n",
       "\n",
       "          5cf3911a-f3ea-4c0e-851d-5bb57ca7190f  \\\n",
       "5S_rRNA                                      0   \n",
       "5_8S_rRNA                                    0   \n",
       "7SK                                          0   \n",
       "A1BG                                   6.50061   \n",
       "A1BG-AS1                              0.978248   \n",
       "\n",
       "          aaacf22c-2362-4613-b024-88fb7dd1cca1  \\\n",
       "5S_rRNA                                      0   \n",
       "5_8S_rRNA                                    0   \n",
       "7SK                                   0.201713   \n",
       "A1BG                                   3.53732   \n",
       "A1BG-AS1                               1.42227   \n",
       "\n",
       "          95b69517-4971-450e-9ed0-43bc8b2c0534  \\\n",
       "5S_rRNA                                      0   \n",
       "5_8S_rRNA                                    0   \n",
       "7SK                                          0   \n",
       "A1BG                                   6.06716   \n",
       "A1BG-AS1                              0.443721   \n",
       "\n",
       "          b4f7f9e4-5fc5-4461-8e0b-0b6c384863c6  \\\n",
       "5S_rRNA                                      0   \n",
       "5_8S_rRNA                                    0   \n",
       "7SK                                    0.04733   \n",
       "A1BG                                   3.02502   \n",
       "A1BG-AS1                               1.48548   \n",
       "\n",
       "          180a2b9c-9cac-4d96-86e8-cd6b3b9386b5  \n",
       "5S_rRNA                                      0  \n",
       "5_8S_rRNA                                    0  \n",
       "7SK                                          0  \n",
       "A1BG                                   8.42211  \n",
       "A1BG-AS1                              0.623024  \n",
       "\n",
       "[5 rows x 9327 columns]"
      ]
     },
     "execution_count": 17,
     "metadata": {},
     "output_type": "execute_result"
    }
   ],
   "source": [
    "TCGA_exp_matrix.head()"
   ]
  },
  {
   "cell_type": "code",
   "execution_count": 18,
   "metadata": {},
   "outputs": [
    {
     "data": {
      "text/plain": [
       "Index(['DepMap_ID', 'CCLE_Name', 'Aliases', 'COSMIC_ID', 'Sanger ID',\n",
       "       'Primary Disease', 'Subtype Disease', 'Gender', 'Source'],\n",
       "      dtype='object')"
      ]
     },
     "execution_count": 18,
     "metadata": {},
     "output_type": "execute_result"
    }
   ],
   "source": [
    "#CCLE_NAME only match CELL_LINE_NAME if \"_\" is removed from CELL_LINE_NAME and then mapped to  CCLE_ID removing _*\n",
    "CCLE_annot = pd.read_csv('DepMap-2019q1-celllines_v2.csv')\n",
    "CCLE_annot.columns"
   ]
  },
  {
   "cell_type": "code",
   "execution_count": 19,
   "metadata": {
    "collapsed": true
   },
   "outputs": [],
   "source": [
    "#GDSC (not used) -> sanger1018_brainarray_ensemblgene_rma.txt, other gen_drug ML predictor: FORESEE https://academic.oup.com/bioinformatics/advance-article/doi/10.1093/bioinformatics/btz145/5367831 \n",
    "#CCLE exp -> v21.data.gex_avg_log2.txt, v21.meta.gex_features.txt is downloaded from ftp://caftpd.nci.nih.gov/pub/OCG-DCC/CTD2/Broad/CTRPv2.0_2015_ctd2_ExpandedDataset/ \n",
    "#CCLE_read_exp = pd.read_csv('CTRPv2.1_2016_pub_NatChemBiol_12_109/v21.data.gex_avg_log2.txt', delimiter='\\t')\n",
    "CCLE_read_exp = pd.read_csv('CCLE_depMap_19Q1_TPM.csv', index_col=0)\n"
   ]
  },
  {
   "cell_type": "code",
   "execution_count": 20,
   "metadata": {
    "collapsed": true
   },
   "outputs": [],
   "source": [
    "CCLE_exp = pd.merge(CCLE_annot[['CCLE_Name','DepMap_ID']],CCLE_read_exp, left_on=['DepMap_ID'], right_on=CCLE_read_exp.index )\n"
   ]
  },
  {
   "cell_type": "code",
   "execution_count": 21,
   "metadata": {
    "collapsed": true
   },
   "outputs": [],
   "source": [
    "CCLE_exp.drop(columns=['DepMap_ID'], inplace = True)"
   ]
  },
  {
   "cell_type": "code",
   "execution_count": 22,
   "metadata": {},
   "outputs": [
    {
     "data": {
      "text/html": [
       "<div>\n",
       "<style scoped>\n",
       "    .dataframe tbody tr th:only-of-type {\n",
       "        vertical-align: middle;\n",
       "    }\n",
       "\n",
       "    .dataframe tbody tr th {\n",
       "        vertical-align: top;\n",
       "    }\n",
       "\n",
       "    .dataframe thead th {\n",
       "        text-align: right;\n",
       "    }\n",
       "</style>\n",
       "<table border=\"1\" class=\"dataframe\">\n",
       "  <thead>\n",
       "    <tr style=\"text-align: right;\">\n",
       "      <th></th>\n",
       "      <th>CCLE_Name</th>\n",
       "      <th>TSPAN6 (ENSG00000000003)</th>\n",
       "      <th>TNMD (ENSG00000000005)</th>\n",
       "      <th>DPM1 (ENSG00000000419)</th>\n",
       "      <th>SCYL3 (ENSG00000000457)</th>\n",
       "      <th>C1orf112 (ENSG00000000460)</th>\n",
       "      <th>FGR (ENSG00000000938)</th>\n",
       "      <th>CFH (ENSG00000000971)</th>\n",
       "      <th>FUCA2 (ENSG00000001036)</th>\n",
       "      <th>GCLC (ENSG00000001084)</th>\n",
       "      <th>...</th>\n",
       "      <th>RP11-309M23.1 (ENSGR0000237531)</th>\n",
       "      <th>AMDP1 (ENSGR0000237801)</th>\n",
       "      <th>BX649553.1 (ENSGR0000263835)</th>\n",
       "      <th>BX649553.2 (ENSGR0000263980)</th>\n",
       "      <th>BX649553.3 (ENSGR0000264510)</th>\n",
       "      <th>BX649553.4 (ENSGR0000264819)</th>\n",
       "      <th>RN7SL355P (ENSGR0000265350)</th>\n",
       "      <th>MIR3690 (ENSGR0000265658)</th>\n",
       "      <th>AL732314.1 (ENSGR0000266731)</th>\n",
       "      <th>AJ271736.10 (ENSGR0000270726)</th>\n",
       "    </tr>\n",
       "  </thead>\n",
       "  <tbody>\n",
       "    <tr>\n",
       "      <th>0</th>\n",
       "      <td>NIHOVCAR3_OVARY</td>\n",
       "      <td>5.851999</td>\n",
       "      <td>0.000000</td>\n",
       "      <td>7.390083</td>\n",
       "      <td>2.097611</td>\n",
       "      <td>4.253233</td>\n",
       "      <td>0.042644</td>\n",
       "      <td>0.879706</td>\n",
       "      <td>5.666188</td>\n",
       "      <td>4.542258</td>\n",
       "      <td>...</td>\n",
       "      <td>0.0</td>\n",
       "      <td>0.0</td>\n",
       "      <td>0.0</td>\n",
       "      <td>0.0</td>\n",
       "      <td>0.0</td>\n",
       "      <td>0.0</td>\n",
       "      <td>0.0</td>\n",
       "      <td>0.0</td>\n",
       "      <td>0.0</td>\n",
       "      <td>0.0</td>\n",
       "    </tr>\n",
       "    <tr>\n",
       "      <th>1</th>\n",
       "      <td>HL60_HAEMATOPOIETIC_AND_LYMPHOID_TISSUE</td>\n",
       "      <td>0.163499</td>\n",
       "      <td>0.000000</td>\n",
       "      <td>5.659639</td>\n",
       "      <td>1.238787</td>\n",
       "      <td>3.040892</td>\n",
       "      <td>4.250962</td>\n",
       "      <td>0.163499</td>\n",
       "      <td>4.168321</td>\n",
       "      <td>4.026800</td>\n",
       "      <td>...</td>\n",
       "      <td>0.0</td>\n",
       "      <td>0.0</td>\n",
       "      <td>0.0</td>\n",
       "      <td>0.0</td>\n",
       "      <td>0.0</td>\n",
       "      <td>0.0</td>\n",
       "      <td>0.0</td>\n",
       "      <td>0.0</td>\n",
       "      <td>0.0</td>\n",
       "      <td>0.0</td>\n",
       "    </tr>\n",
       "    <tr>\n",
       "      <th>2</th>\n",
       "      <td>CACO2_LARGE_INTESTINE</td>\n",
       "      <td>6.054631</td>\n",
       "      <td>0.084064</td>\n",
       "      <td>7.760487</td>\n",
       "      <td>1.851999</td>\n",
       "      <td>3.875780</td>\n",
       "      <td>0.000000</td>\n",
       "      <td>0.056584</td>\n",
       "      <td>6.594399</td>\n",
       "      <td>4.571070</td>\n",
       "      <td>...</td>\n",
       "      <td>0.0</td>\n",
       "      <td>0.0</td>\n",
       "      <td>0.0</td>\n",
       "      <td>0.0</td>\n",
       "      <td>0.0</td>\n",
       "      <td>0.0</td>\n",
       "      <td>0.0</td>\n",
       "      <td>0.0</td>\n",
       "      <td>0.0</td>\n",
       "      <td>0.0</td>\n",
       "    </tr>\n",
       "    <tr>\n",
       "      <th>3</th>\n",
       "      <td>HEL_HAEMATOPOIETIC_AND_LYMPHOID_TISSUE</td>\n",
       "      <td>2.615887</td>\n",
       "      <td>0.000000</td>\n",
       "      <td>5.323370</td>\n",
       "      <td>2.405992</td>\n",
       "      <td>3.902074</td>\n",
       "      <td>0.925999</td>\n",
       "      <td>4.888987</td>\n",
       "      <td>3.896272</td>\n",
       "      <td>4.835924</td>\n",
       "      <td>...</td>\n",
       "      <td>0.0</td>\n",
       "      <td>0.0</td>\n",
       "      <td>0.0</td>\n",
       "      <td>0.0</td>\n",
       "      <td>0.0</td>\n",
       "      <td>0.0</td>\n",
       "      <td>0.0</td>\n",
       "      <td>0.0</td>\n",
       "      <td>0.0</td>\n",
       "      <td>0.0</td>\n",
       "    </tr>\n",
       "    <tr>\n",
       "      <th>4</th>\n",
       "      <td>HEL9217_HAEMATOPOIETIC_AND_LYMPHOID_TISSUE</td>\n",
       "      <td>3.066950</td>\n",
       "      <td>0.000000</td>\n",
       "      <td>5.762615</td>\n",
       "      <td>2.992768</td>\n",
       "      <td>5.359662</td>\n",
       "      <td>0.238787</td>\n",
       "      <td>5.700162</td>\n",
       "      <td>4.143230</td>\n",
       "      <td>5.380591</td>\n",
       "      <td>...</td>\n",
       "      <td>0.0</td>\n",
       "      <td>0.0</td>\n",
       "      <td>0.0</td>\n",
       "      <td>0.0</td>\n",
       "      <td>0.0</td>\n",
       "      <td>0.0</td>\n",
       "      <td>0.0</td>\n",
       "      <td>0.0</td>\n",
       "      <td>0.0</td>\n",
       "      <td>0.0</td>\n",
       "    </tr>\n",
       "  </tbody>\n",
       "</table>\n",
       "<p>5 rows × 57821 columns</p>\n",
       "</div>"
      ],
      "text/plain": [
       "                                    CCLE_Name  TSPAN6 (ENSG00000000003)  \\\n",
       "0                             NIHOVCAR3_OVARY                  5.851999   \n",
       "1     HL60_HAEMATOPOIETIC_AND_LYMPHOID_TISSUE                  0.163499   \n",
       "2                       CACO2_LARGE_INTESTINE                  6.054631   \n",
       "3      HEL_HAEMATOPOIETIC_AND_LYMPHOID_TISSUE                  2.615887   \n",
       "4  HEL9217_HAEMATOPOIETIC_AND_LYMPHOID_TISSUE                  3.066950   \n",
       "\n",
       "   TNMD (ENSG00000000005)  DPM1 (ENSG00000000419)  SCYL3 (ENSG00000000457)  \\\n",
       "0                0.000000                7.390083                 2.097611   \n",
       "1                0.000000                5.659639                 1.238787   \n",
       "2                0.084064                7.760487                 1.851999   \n",
       "3                0.000000                5.323370                 2.405992   \n",
       "4                0.000000                5.762615                 2.992768   \n",
       "\n",
       "   C1orf112 (ENSG00000000460)  FGR (ENSG00000000938)  CFH (ENSG00000000971)  \\\n",
       "0                    4.253233               0.042644               0.879706   \n",
       "1                    3.040892               4.250962               0.163499   \n",
       "2                    3.875780               0.000000               0.056584   \n",
       "3                    3.902074               0.925999               4.888987   \n",
       "4                    5.359662               0.238787               5.700162   \n",
       "\n",
       "   FUCA2 (ENSG00000001036)  GCLC (ENSG00000001084)  ...  \\\n",
       "0                 5.666188                4.542258  ...   \n",
       "1                 4.168321                4.026800  ...   \n",
       "2                 6.594399                4.571070  ...   \n",
       "3                 3.896272                4.835924  ...   \n",
       "4                 4.143230                5.380591  ...   \n",
       "\n",
       "   RP11-309M23.1 (ENSGR0000237531)  AMDP1 (ENSGR0000237801)  \\\n",
       "0                              0.0                      0.0   \n",
       "1                              0.0                      0.0   \n",
       "2                              0.0                      0.0   \n",
       "3                              0.0                      0.0   \n",
       "4                              0.0                      0.0   \n",
       "\n",
       "   BX649553.1 (ENSGR0000263835)  BX649553.2 (ENSGR0000263980)  \\\n",
       "0                           0.0                           0.0   \n",
       "1                           0.0                           0.0   \n",
       "2                           0.0                           0.0   \n",
       "3                           0.0                           0.0   \n",
       "4                           0.0                           0.0   \n",
       "\n",
       "   BX649553.3 (ENSGR0000264510)  BX649553.4 (ENSGR0000264819)  \\\n",
       "0                           0.0                           0.0   \n",
       "1                           0.0                           0.0   \n",
       "2                           0.0                           0.0   \n",
       "3                           0.0                           0.0   \n",
       "4                           0.0                           0.0   \n",
       "\n",
       "   RN7SL355P (ENSGR0000265350)  MIR3690 (ENSGR0000265658)  \\\n",
       "0                          0.0                        0.0   \n",
       "1                          0.0                        0.0   \n",
       "2                          0.0                        0.0   \n",
       "3                          0.0                        0.0   \n",
       "4                          0.0                        0.0   \n",
       "\n",
       "   AL732314.1 (ENSGR0000266731)  AJ271736.10 (ENSGR0000270726)  \n",
       "0                           0.0                            0.0  \n",
       "1                           0.0                            0.0  \n",
       "2                           0.0                            0.0  \n",
       "3                           0.0                            0.0  \n",
       "4                           0.0                            0.0  \n",
       "\n",
       "[5 rows x 57821 columns]"
      ]
     },
     "execution_count": 22,
     "metadata": {},
     "output_type": "execute_result"
    }
   ],
   "source": [
    "CCLE_exp.head()\n"
   ]
  },
  {
   "cell_type": "code",
   "execution_count": 23,
   "metadata": {
    "collapsed": true
   },
   "outputs": [],
   "source": [
    "CCLE_exp['CELL_LINE_NAME'] = CCLE_exp['CCLE_Name'].str.replace(r'_.*','')"
   ]
  },
  {
   "cell_type": "code",
   "execution_count": 24,
   "metadata": {
    "collapsed": true
   },
   "outputs": [],
   "source": [
    "CCLE_exp.index = CCLE_exp['CELL_LINE_NAME']\n",
    "CCLE_exp.drop(columns=['CELL_LINE_NAME'], inplace = True)\n"
   ]
  },
  {
   "cell_type": "code",
   "execution_count": 25,
   "metadata": {
    "collapsed": true
   },
   "outputs": [],
   "source": [
    "CCLE_exp.drop(columns=['CCLE_Name'], inplace = True)\n"
   ]
  },
  {
   "cell_type": "code",
   "execution_count": 26,
   "metadata": {
    "collapsed": true
   },
   "outputs": [],
   "source": [
    "CCLE_matrix = CCLE_exp.transpose()\n"
   ]
  },
  {
   "cell_type": "code",
   "execution_count": 27,
   "metadata": {
    "collapsed": true
   },
   "outputs": [],
   "source": [
    "CCLE_matrix.columns.name = None\n"
   ]
  },
  {
   "cell_type": "code",
   "execution_count": 28,
   "metadata": {
    "collapsed": true
   },
   "outputs": [],
   "source": [
    "CCLE_matrix['t'] = CCLE_matrix.index"
   ]
  },
  {
   "cell_type": "code",
   "execution_count": 29,
   "metadata": {
    "collapsed": true
   },
   "outputs": [],
   "source": [
    "CCLE_matrix['new_index'] = CCLE_matrix['t'].str.replace(r'(\\.)*\\s*(\\(.*)*','')\n"
   ]
  },
  {
   "cell_type": "code",
   "execution_count": 30,
   "metadata": {
    "collapsed": true
   },
   "outputs": [],
   "source": [
    "CCLE_matrix.index = CCLE_matrix['new_index']\n",
    "CCLE_matrix.drop(columns=['new_index','t'], inplace=True)\n"
   ]
  },
  {
   "cell_type": "code",
   "execution_count": 31,
   "metadata": {
    "collapsed": true
   },
   "outputs": [],
   "source": [
    "del CCLE_matrix.index.name "
   ]
  },
  {
   "cell_type": "code",
   "execution_count": 32,
   "metadata": {},
   "outputs": [
    {
     "name": "stdout",
     "output_type": "stream",
     "text": [
      "(35620, 1165)\n",
      "(33645, 9327)\n",
      "(33645, 1165)\n",
      "(33645, 9327)\n"
     ]
    }
   ],
   "source": [
    "#the same genes need to be on both CCLE_exp and TCGA_exp\n",
    "exp_genes = list(set(TCGA_exp_matrix.index) & set(CCLE_matrix.index))\n",
    "CCLE_matrix_filtered = CCLE_matrix.loc[exp_genes, :]\n",
    "CCLE_matrix_f = CCLE_matrix_filtered[~CCLE_matrix_filtered.index.duplicated(keep='first')]\n",
    "TCGA_exp_matrix_filtered = TCGA_exp_matrix.loc[exp_genes, :]\n",
    "TCGA_exp_matrix_f = TCGA_exp_matrix_filtered[~TCGA_exp_matrix_filtered.index.duplicated(keep='first')]\n",
    "print(CCLE_matrix_filtered.shape)\n",
    "print(TCGA_exp_matrix_filtered.shape)\n",
    "print(CCLE_matrix_f.shape)\n",
    "print(TCGA_exp_matrix_f.shape)"
   ]
  },
  {
   "cell_type": "code",
   "execution_count": 33,
   "metadata": {},
   "outputs": [
    {
     "data": {
      "text/plain": [
       "1.72246602447"
      ]
     },
     "execution_count": 33,
     "metadata": {},
     "output_type": "execute_result"
    }
   ],
   "source": [
    "CCLE_matrix_f.loc['A1BG','22RV1']"
   ]
  },
  {
   "cell_type": "code",
   "execution_count": 34,
   "metadata": {
    "collapsed": true
   },
   "outputs": [],
   "source": [
    "#IC50 for CCLE as provided by authors after imputation\n",
    "IC50_CCLE_imputed = pd.read_csv('ic50_data_imputed.txt', delimiter='\\t', index_col=0, header=0)"
   ]
  },
  {
   "cell_type": "code",
   "execution_count": 35,
   "metadata": {
    "collapsed": true
   },
   "outputs": [],
   "source": [
    "del IC50_CCLE_imputed.index.name"
   ]
  },
  {
   "cell_type": "code",
   "execution_count": 36,
   "metadata": {
    "collapsed": true
   },
   "outputs": [],
   "source": [
    "#IC50 for CCLE obtained from supplement material in https://www.ncbi.nlm.nih.gov/pmc/articles/PMC4967469/#mmc5 \n",
    "#Caveat of this source: even if it has a larger number of cells (990), many of them are NaN, so imputation of values for \n",
    "#those cell lines and use them as ground truth seems too inacurate. \n",
    "IC50 = pd.read_excel('mmc5.xlsx', sheet_name='TableS4A-IC50s',  skiprows = range(1, 5), header=1, index_col=1)\n"
   ]
  },
  {
   "cell_type": "code",
   "execution_count": 37,
   "metadata": {
    "collapsed": true
   },
   "outputs": [],
   "source": [
    "\n",
    "IC50.drop(columns= 'Unnamed: 0', inplace = True)\n",
    "IC50.index = IC50.index.str.replace('-','')\n"
   ]
  },
  {
   "cell_type": "code",
   "execution_count": 38,
   "metadata": {},
   "outputs": [
    {
     "data": {
      "text/html": [
       "<div>\n",
       "<style scoped>\n",
       "    .dataframe tbody tr th:only-of-type {\n",
       "        vertical-align: middle;\n",
       "    }\n",
       "\n",
       "    .dataframe tbody tr th {\n",
       "        vertical-align: top;\n",
       "    }\n",
       "\n",
       "    .dataframe thead th {\n",
       "        text-align: right;\n",
       "    }\n",
       "</style>\n",
       "<table border=\"1\" class=\"dataframe\">\n",
       "  <thead>\n",
       "    <tr style=\"text-align: right;\">\n",
       "      <th></th>\n",
       "      <th>ALLPO</th>\n",
       "      <th>AMO1</th>\n",
       "      <th>COLO668</th>\n",
       "      <th>CORL95</th>\n",
       "      <th>DG75</th>\n",
       "      <th>ECGI10</th>\n",
       "      <th>ES5</th>\n",
       "      <th>GT3TKB</th>\n",
       "      <th>JJN3</th>\n",
       "      <th>KINGS1</th>\n",
       "      <th>...</th>\n",
       "      <th>MM1S</th>\n",
       "      <th>EW12</th>\n",
       "      <th>H2810</th>\n",
       "      <th>NCIH128</th>\n",
       "      <th>CORL32</th>\n",
       "      <th>ECC12</th>\n",
       "      <th>KPNRTBM1</th>\n",
       "      <th>CP67MEL</th>\n",
       "      <th>NCIH378</th>\n",
       "      <th>NCIH250</th>\n",
       "    </tr>\n",
       "  </thead>\n",
       "  <tbody>\n",
       "    <tr>\n",
       "      <th>TL-2-105</th>\n",
       "      <td>1.412465</td>\n",
       "      <td>3.363134</td>\n",
       "      <td>3.398414</td>\n",
       "      <td>3.312450</td>\n",
       "      <td>3.650059</td>\n",
       "      <td>5.001921</td>\n",
       "      <td>1.448888</td>\n",
       "      <td>4.490765</td>\n",
       "      <td>2.208866</td>\n",
       "      <td>5.381778</td>\n",
       "      <td>...</td>\n",
       "      <td>NaN</td>\n",
       "      <td>NaN</td>\n",
       "      <td>NaN</td>\n",
       "      <td>NaN</td>\n",
       "      <td>NaN</td>\n",
       "      <td>NaN</td>\n",
       "      <td>NaN</td>\n",
       "      <td>NaN</td>\n",
       "      <td>NaN</td>\n",
       "      <td>NaN</td>\n",
       "    </tr>\n",
       "    <tr>\n",
       "      <th>TAK-715</th>\n",
       "      <td>2.113150</td>\n",
       "      <td>3.051047</td>\n",
       "      <td>3.103017</td>\n",
       "      <td>6.096484</td>\n",
       "      <td>3.107754</td>\n",
       "      <td>4.003636</td>\n",
       "      <td>1.929536</td>\n",
       "      <td>3.736883</td>\n",
       "      <td>3.011577</td>\n",
       "      <td>6.112720</td>\n",
       "      <td>...</td>\n",
       "      <td>NaN</td>\n",
       "      <td>NaN</td>\n",
       "      <td>NaN</td>\n",
       "      <td>NaN</td>\n",
       "      <td>NaN</td>\n",
       "      <td>NaN</td>\n",
       "      <td>NaN</td>\n",
       "      <td>NaN</td>\n",
       "      <td>NaN</td>\n",
       "      <td>NaN</td>\n",
       "    </tr>\n",
       "    <tr>\n",
       "      <th>CP466722</th>\n",
       "      <td>-0.756692</td>\n",
       "      <td>1.718606</td>\n",
       "      <td>3.067645</td>\n",
       "      <td>2.950619</td>\n",
       "      <td>2.175176</td>\n",
       "      <td>5.448208</td>\n",
       "      <td>1.367814</td>\n",
       "      <td>3.789823</td>\n",
       "      <td>1.366097</td>\n",
       "      <td>6.000134</td>\n",
       "      <td>...</td>\n",
       "      <td>NaN</td>\n",
       "      <td>NaN</td>\n",
       "      <td>NaN</td>\n",
       "      <td>NaN</td>\n",
       "      <td>NaN</td>\n",
       "      <td>NaN</td>\n",
       "      <td>NaN</td>\n",
       "      <td>NaN</td>\n",
       "      <td>NaN</td>\n",
       "      <td>NaN</td>\n",
       "    </tr>\n",
       "    <tr>\n",
       "      <th>BMS-345541</th>\n",
       "      <td>1.386112</td>\n",
       "      <td>2.191936</td>\n",
       "      <td>1.228204</td>\n",
       "      <td>2.848541</td>\n",
       "      <td>1.587807</td>\n",
       "      <td>3.371173</td>\n",
       "      <td>1.536514</td>\n",
       "      <td>4.036876</td>\n",
       "      <td>2.032780</td>\n",
       "      <td>4.328236</td>\n",
       "      <td>...</td>\n",
       "      <td>NaN</td>\n",
       "      <td>NaN</td>\n",
       "      <td>NaN</td>\n",
       "      <td>NaN</td>\n",
       "      <td>NaN</td>\n",
       "      <td>NaN</td>\n",
       "      <td>NaN</td>\n",
       "      <td>NaN</td>\n",
       "      <td>NaN</td>\n",
       "      <td>NaN</td>\n",
       "    </tr>\n",
       "    <tr>\n",
       "      <th>Genentech Cpd 10</th>\n",
       "      <td>-1.398149</td>\n",
       "      <td>1.541583</td>\n",
       "      <td>0.313308</td>\n",
       "      <td>3.740211</td>\n",
       "      <td>2.438582</td>\n",
       "      <td>5.000838</td>\n",
       "      <td>-0.783992</td>\n",
       "      <td>2.562712</td>\n",
       "      <td>1.361857</td>\n",
       "      <td>2.415087</td>\n",
       "      <td>...</td>\n",
       "      <td>NaN</td>\n",
       "      <td>NaN</td>\n",
       "      <td>NaN</td>\n",
       "      <td>NaN</td>\n",
       "      <td>NaN</td>\n",
       "      <td>NaN</td>\n",
       "      <td>NaN</td>\n",
       "      <td>NaN</td>\n",
       "      <td>NaN</td>\n",
       "      <td>NaN</td>\n",
       "    </tr>\n",
       "  </tbody>\n",
       "</table>\n",
       "<p>5 rows × 990 columns</p>\n",
       "</div>"
      ],
      "text/plain": [
       "                     ALLPO      AMO1   COLO668    CORL95      DG75    ECGI10  \\\n",
       "TL-2-105          1.412465  3.363134  3.398414  3.312450  3.650059  5.001921   \n",
       "TAK-715           2.113150  3.051047  3.103017  6.096484  3.107754  4.003636   \n",
       "CP466722         -0.756692  1.718606  3.067645  2.950619  2.175176  5.448208   \n",
       "BMS-345541        1.386112  2.191936  1.228204  2.848541  1.587807  3.371173   \n",
       "Genentech Cpd 10 -1.398149  1.541583  0.313308  3.740211  2.438582  5.000838   \n",
       "\n",
       "                       ES5    GT3TKB      JJN3    KINGS1  ...  MM1S  EW12  \\\n",
       "TL-2-105          1.448888  4.490765  2.208866  5.381778  ...   NaN   NaN   \n",
       "TAK-715           1.929536  3.736883  3.011577  6.112720  ...   NaN   NaN   \n",
       "CP466722          1.367814  3.789823  1.366097  6.000134  ...   NaN   NaN   \n",
       "BMS-345541        1.536514  4.036876  2.032780  4.328236  ...   NaN   NaN   \n",
       "Genentech Cpd 10 -0.783992  2.562712  1.361857  2.415087  ...   NaN   NaN   \n",
       "\n",
       "                  H2810  NCIH128  CORL32  ECC12  KPNRTBM1  CP67MEL  NCIH378  \\\n",
       "TL-2-105            NaN      NaN     NaN    NaN       NaN      NaN      NaN   \n",
       "TAK-715             NaN      NaN     NaN    NaN       NaN      NaN      NaN   \n",
       "CP466722            NaN      NaN     NaN    NaN       NaN      NaN      NaN   \n",
       "BMS-345541          NaN      NaN     NaN    NaN       NaN      NaN      NaN   \n",
       "Genentech Cpd 10    NaN      NaN     NaN    NaN       NaN      NaN      NaN   \n",
       "\n",
       "                  NCIH250  \n",
       "TL-2-105              NaN  \n",
       "TAK-715               NaN  \n",
       "CP466722              NaN  \n",
       "BMS-345541            NaN  \n",
       "Genentech Cpd 10      NaN  \n",
       "\n",
       "[5 rows x 990 columns]"
      ]
     },
     "execution_count": 38,
     "metadata": {},
     "output_type": "execute_result"
    }
   ],
   "source": [
    "IC50 = IC50.transpose()\n",
    "IC50.head()"
   ]
  },
  {
   "cell_type": "code",
   "execution_count": 39,
   "metadata": {
    "collapsed": true
   },
   "outputs": [],
   "source": [
    "#cell lines without IC50 for specific drugs are inputed with kNN (k = 5) using KNN from VIM package of R (other jupyter to be uploaded)\n"
   ]
  },
  {
   "cell_type": "code",
   "execution_count": 40,
   "metadata": {},
   "outputs": [
    {
     "name": "stdout",
     "output_type": "stream",
     "text": [
      "(265, 990)\n"
     ]
    }
   ],
   "source": [
    "print(IC50.shape) #drug response data of 990 CCLE cell lines to 265 anti-cancer\n",
    "#drugs measured by the half maximal inhibitory concentration (IC50) from the GDSC Project."
   ]
  },
  {
   "cell_type": "code",
   "execution_count": 41,
   "metadata": {
    "collapsed": true
   },
   "outputs": [],
   "source": [
    "#MAF - Fields:entity_id, case_id, Hugo_Symbol\n",
    "#four types of nonsynonymous mutations, including missense and nonsense mutations, frameshift insertions and deletions\n"
   ]
  },
  {
   "cell_type": "code",
   "execution_count": 109,
   "metadata": {},
   "outputs": [
    {
     "name": "stderr",
     "output_type": "stream",
     "text": [
      "/home/auri/anaconda3/envs/gen/lib/python3.6/site-packages/IPython/core/interactiveshell.py:3020: DtypeWarning: Columns (4,20,23,26,27,28,29,30,31,32,33) have mixed types. Specify dtype option on import or set low_memory=False.\n",
      "  interactivity=interactivity, compiler=compiler, result=result)\n"
     ]
    }
   ],
   "source": [
    "#CCLE MAF uses the newest version in 2019 from https://depmap.org/portal/download/all/?release=DepMap+Public+19Q1&file=DepMap-2019q1-celllines_v2.csv\n",
    "#CCLE MAF downloaded from https://data.broadinstitute.org/ccle/CCLE_DepMap_18q3_maf_20180718.txt is not longer used\n",
    "CCLE_maf_read = pd.read_csv('depmap_19Q1_mutation_calls.csv')"
   ]
  },
  {
   "cell_type": "code",
   "execution_count": 110,
   "metadata": {
    "collapsed": true
   },
   "outputs": [],
   "source": [
    "CCLE_maf = pd.merge(CCLE_annot[['CCLE_Name','DepMap_ID']],CCLE_maf_read, left_on=['DepMap_ID'], right_on=['DepMap_ID'] )"
   ]
  },
  {
   "cell_type": "code",
   "execution_count": 111,
   "metadata": {
    "collapsed": true
   },
   "outputs": [],
   "source": [
    "CCLE_maf.drop(columns=['DepMap_ID'], inplace = True)"
   ]
  },
  {
   "cell_type": "code",
   "execution_count": 112,
   "metadata": {
    "collapsed": true
   },
   "outputs": [],
   "source": [
    "CCLE_maf['CELL_LINE_NAME'] = CCLE_maf['CCLE_Name'].str.replace(r'_.*','')"
   ]
  },
  {
   "cell_type": "code",
   "execution_count": 113,
   "metadata": {},
   "outputs": [
    {
     "name": "stdout",
     "output_type": "stream",
     "text": [
      "Index(['CCLE_Name', 'Unnamed: 0', 'Hugo_Symbol', 'Entrez_Gene_Id',\n",
      "       'NCBI_Build', 'Chromosome', 'Start_position', 'End_position', 'Strand',\n",
      "       'Variant_Classification', 'Variant_Type', 'Reference_Allele',\n",
      "       'Tumor_Seq_Allele1', 'dbSNP_RS', 'dbSNP_Val_Status', 'Genome_Change',\n",
      "       'Annotation_Transcript', 'Tumor_Sample_Barcode', 'cDNA_Change',\n",
      "       'Codon_Change', 'Protein_Change', 'isDeleterious', 'isTCGAhotspot',\n",
      "       'TCGAhsCnt', 'isCOSMIChotspot', 'COSMIChsCnt', 'ExAC_AF', 'VA_WES_AC',\n",
      "       'CGA_WES_AC', 'SangerWES_AC', 'SangerRecalibWES_AC', 'RNAseq_AC',\n",
      "       'HC_AC', 'RD_AC', 'WGS_AC', 'Variant_annotation', 'CELL_LINE_NAME'],\n",
      "      dtype='object')\n",
      "{nan, \"3'UTR\", \"5'Flank\", 'De_novo_Start_OutOfFrame', 'Start_Codon_SNP', 'Frame_Shift_Del', 'Start_Codon_Del', 'Intron', 'In_Frame_Ins', 'IGR', 'Stop_Codon_Ins', 'Stop_Codon_Del', 'Silent', 'Splice_Site', 'Nonsense_Mutation', 'In_Frame_Del', 'Missense_Mutation', 'Start_Codon_Ins', 'Nonstop_Mutation', \"5'UTR\", 'Frame_Shift_Ins'}\n",
      "                                       CCLE_Name  Unnamed: 0  Hugo_Symbol  \\\n",
      "Variant_Classification   Variant_Type                                       \n",
      "3'UTR                    DEL                  49          49           49   \n",
      "                         INS                  12          12           12   \n",
      "5'Flank                  DEL                  60          60           60   \n",
      "                         INS                  25          25           25   \n",
      "5'UTR                    DEL                  28          28           28   \n",
      "                         INS                   6           6            6   \n",
      "De_novo_Start_OutOfFrame DEL                 114         114          114   \n",
      "                         DNP                  14          14           14   \n",
      "                         INS                 108         108          108   \n",
      "                         SNP                4275        4275         4275   \n",
      "Frame_Shift_Del          DEL               41302       41302        41302   \n",
      "Frame_Shift_Ins          INS               24341       24341        24341   \n",
      "IGR                      DEL                  77          77           77   \n",
      "                         INS                  28          28           28   \n",
      "In_Frame_Del             DEL                7080        7080         7080   \n",
      "In_Frame_Ins             INS                2867        2867         2867   \n",
      "Intron                   DEL                 298         298          298   \n",
      "                         INS                  85          85           85   \n",
      "Missense_Mutation        DNP                7455        7455         7455   \n",
      "                         ONP                   4           4            4   \n",
      "                         SNP              674507      674507       674507   \n",
      "                         TNP                  74          74           74   \n",
      "Nonsense_Mutation        DNP                 621         621          621   \n",
      "                         SNP               38483       38483        38483   \n",
      "                         TNP                   4           4            4   \n",
      "Nonstop_Mutation         DNP                   7           7            7   \n",
      "                         SNP                1008        1008         1008   \n",
      "Silent                   DNP                 285         285          285   \n",
      "                         SNP              394492      394492       394492   \n",
      "Splice_Site              DEL                2377        2377         2377   \n",
      "                         DNP                 414         414          414   \n",
      "                         INS                1400        1400         1400   \n",
      "                         ONP                   1           1            1   \n",
      "                         SNP               39356       39356        39356   \n",
      "                         TNP                  15          15           15   \n",
      "Start_Codon_Del          DEL                  99          99           99   \n",
      "Start_Codon_Ins          INS                  78          78           78   \n",
      "Start_Codon_SNP          DNP                  11          11           11   \n",
      "                         SNP                1294        1294         1294   \n",
      "Stop_Codon_Del           DEL                 190         190          190   \n",
      "Stop_Codon_Ins           INS                 162         162          162   \n",
      "\n",
      "                                       Entrez_Gene_Id  NCBI_Build  Chromosome  \\\n",
      "Variant_Classification   Variant_Type                                           \n",
      "3'UTR                    DEL                       49          49          49   \n",
      "                         INS                       12          12          12   \n",
      "5'Flank                  DEL                       60          60          60   \n",
      "                         INS                       25          25          25   \n",
      "5'UTR                    DEL                       28          28          28   \n",
      "                         INS                        6           6           6   \n",
      "De_novo_Start_OutOfFrame DEL                      114         114         114   \n",
      "                         DNP                       14          14          14   \n",
      "                         INS                      108         108         108   \n",
      "                         SNP                     4275        4275        4275   \n",
      "Frame_Shift_Del          DEL                    41302       41302       41302   \n",
      "Frame_Shift_Ins          INS                    24341       24341       24341   \n",
      "IGR                      DEL                       77          77          77   \n",
      "                         INS                       28          28          28   \n",
      "In_Frame_Del             DEL                     7080        7080        7080   \n",
      "In_Frame_Ins             INS                     2867        2867        2867   \n",
      "Intron                   DEL                      298         298         298   \n",
      "                         INS                       85          85          85   \n",
      "Missense_Mutation        DNP                     7455        7455        7455   \n",
      "                         ONP                        4           4           4   \n",
      "                         SNP                   674507      674507      674507   \n",
      "                         TNP                       74          74          74   \n",
      "Nonsense_Mutation        DNP                      621         621         621   \n",
      "                         SNP                    38483       38483       38483   \n",
      "                         TNP                        4           4           4   \n",
      "Nonstop_Mutation         DNP                        7           7           7   \n",
      "                         SNP                     1008        1008        1008   \n",
      "Silent                   DNP                      285         285         285   \n",
      "                         SNP                   394492      394492      394492   \n",
      "Splice_Site              DEL                     2377        2377        2377   \n",
      "                         DNP                      414         414         414   \n",
      "                         INS                     1400        1400        1400   \n",
      "                         ONP                        1           1           1   \n",
      "                         SNP                    39356       39356       39356   \n",
      "                         TNP                       15          15          15   \n",
      "Start_Codon_Del          DEL                       99          99          99   \n",
      "Start_Codon_Ins          INS                       78          78          78   \n",
      "Start_Codon_SNP          DNP                       11          11          11   \n",
      "                         SNP                     1294        1294        1294   \n",
      "Stop_Codon_Del           DEL                      190         190         190   \n",
      "Stop_Codon_Ins           INS                      162         162         162   \n",
      "\n",
      "                                       Start_position  End_position  Strand  \\\n",
      "Variant_Classification   Variant_Type                                         \n",
      "3'UTR                    DEL                       49            49      49   \n",
      "                         INS                       12            12      12   \n",
      "5'Flank                  DEL                       60            60      60   \n",
      "                         INS                       25            25      25   \n",
      "5'UTR                    DEL                       28            28      28   \n",
      "                         INS                        6             6       6   \n",
      "De_novo_Start_OutOfFrame DEL                      114           114     114   \n",
      "                         DNP                       14            14      14   \n",
      "                         INS                      108           108     108   \n",
      "                         SNP                     4275          4275    4275   \n",
      "Frame_Shift_Del          DEL                    41302         41302   41302   \n",
      "Frame_Shift_Ins          INS                    24341         24341   24341   \n",
      "IGR                      DEL                       77            77      77   \n",
      "                         INS                       28            28      28   \n",
      "In_Frame_Del             DEL                     7080          7080    7080   \n",
      "In_Frame_Ins             INS                     2867          2867    2867   \n",
      "Intron                   DEL                      298           298     298   \n",
      "                         INS                       85            85      85   \n",
      "Missense_Mutation        DNP                     7455          7455    7455   \n",
      "                         ONP                        4             4       4   \n",
      "                         SNP                   674507        674507  674507   \n",
      "                         TNP                       74            74      74   \n",
      "Nonsense_Mutation        DNP                      621           621     621   \n",
      "                         SNP                    38483         38483   38483   \n",
      "                         TNP                        4             4       4   \n",
      "Nonstop_Mutation         DNP                        7             7       7   \n",
      "                         SNP                     1008          1008    1008   \n",
      "Silent                   DNP                      285           285     285   \n",
      "                         SNP                   394492        394492  394492   \n",
      "Splice_Site              DEL                     2377          2377    2377   \n",
      "                         DNP                      414           414     414   \n",
      "                         INS                     1400          1400    1400   \n",
      "                         ONP                        1             1       1   \n",
      "                         SNP                    39356         39356   39356   \n",
      "                         TNP                       15            15      15   \n",
      "Start_Codon_Del          DEL                       99            99      99   \n",
      "Start_Codon_Ins          INS                       78            78      78   \n",
      "Start_Codon_SNP          DNP                       11            11      11   \n",
      "                         SNP                     1294          1294    1294   \n",
      "Stop_Codon_Del           DEL                      190           190     190   \n",
      "Stop_Codon_Ins           INS                      162           162     162   \n",
      "\n",
      "                                       Reference_Allele  ...  VA_WES_AC  \\\n",
      "Variant_Classification   Variant_Type                    ...              \n",
      "3'UTR                    DEL                         49  ...          0   \n",
      "                         INS                         12  ...          0   \n",
      "5'Flank                  DEL                         60  ...          0   \n",
      "                         INS                         25  ...          0   \n",
      "5'UTR                    DEL                         28  ...          0   \n",
      "                         INS                          6  ...          0   \n",
      "De_novo_Start_OutOfFrame DEL                        114  ...          1   \n",
      "                         DNP                         14  ...          0   \n",
      "                         INS                        108  ...          2   \n",
      "                         SNP                       4275  ...         99   \n",
      "Frame_Shift_Del          DEL                      41302  ...      13219   \n",
      "Frame_Shift_Ins          INS                      24341  ...       4345   \n",
      "IGR                      DEL                         77  ...          0   \n",
      "                         INS                         28  ...          0   \n",
      "In_Frame_Del             DEL                       7080  ...       2112   \n",
      "In_Frame_Ins             INS                       2867  ...       1388   \n",
      "Intron                   DEL                        298  ...          0   \n",
      "                         INS                         85  ...          0   \n",
      "Missense_Mutation        DNP                       7455  ...       2948   \n",
      "                         ONP                          4  ...          4   \n",
      "                         SNP                     674507  ...     233087   \n",
      "                         TNP                         74  ...         34   \n",
      "Nonsense_Mutation        DNP                        621  ...        259   \n",
      "                         SNP                      38483  ...      13383   \n",
      "                         TNP                          4  ...          3   \n",
      "Nonstop_Mutation         DNP                          7  ...          2   \n",
      "                         SNP                       1008  ...        304   \n",
      "Silent                   DNP                        285  ...         87   \n",
      "                         SNP                     394492  ...     115112   \n",
      "Splice_Site              DEL                       2377  ...        435   \n",
      "                         DNP                        414  ...        226   \n",
      "                         INS                       1400  ...        313   \n",
      "                         ONP                          1  ...          1   \n",
      "                         SNP                      39356  ...      14044   \n",
      "                         TNP                         15  ...         15   \n",
      "Start_Codon_Del          DEL                         99  ...         29   \n",
      "Start_Codon_Ins          INS                         78  ...         13   \n",
      "Start_Codon_SNP          DNP                         11  ...          4   \n",
      "                         SNP                       1294  ...        442   \n",
      "Stop_Codon_Del           DEL                        190  ...         43   \n",
      "Stop_Codon_Ins           INS                        162  ...         55   \n",
      "\n",
      "                                       CGA_WES_AC  SangerWES_AC  \\\n",
      "Variant_Classification   Variant_Type                             \n",
      "3'UTR                    DEL                    0             0   \n",
      "                         INS                    0             0   \n",
      "5'Flank                  DEL                    0             0   \n",
      "                         INS                    0             0   \n",
      "5'UTR                    DEL                    0             0   \n",
      "                         INS                    0             0   \n",
      "De_novo_Start_OutOfFrame DEL                    4             0   \n",
      "                         DNP                    0             0   \n",
      "                         INS                    2             0   \n",
      "                         SNP                   55           665   \n",
      "Frame_Shift_Del          DEL                11753         22607   \n",
      "Frame_Shift_Ins          INS                 3835          3952   \n",
      "IGR                      DEL                    0             0   \n",
      "                         INS                    0             0   \n",
      "In_Frame_Del             DEL                 2278          2425   \n",
      "In_Frame_Ins             INS                  935           190   \n",
      "Intron                   DEL                    0             0   \n",
      "                         INS                    0             0   \n",
      "Missense_Mutation        DNP                    0             0   \n",
      "                         ONP                    0             0   \n",
      "                         SNP               203405        390918   \n",
      "                         TNP                    0             0   \n",
      "Nonsense_Mutation        DNP                    0             0   \n",
      "                         SNP                12069         24326   \n",
      "                         TNP                    0             0   \n",
      "Nonstop_Mutation         DNP                    0             0   \n",
      "                         SNP                  229           466   \n",
      "Silent                   DNP                    0             0   \n",
      "                         SNP                97917        168606   \n",
      "Splice_Site              DEL                  512           917   \n",
      "                         DNP                    0             0   \n",
      "                         INS                  289           168   \n",
      "                         ONP                    0             0   \n",
      "                         SNP                12149         21467   \n",
      "                         TNP                    0             0   \n",
      "Start_Codon_Del          DEL                   29            40   \n",
      "Start_Codon_Ins          INS                    5             2   \n",
      "Start_Codon_SNP          DNP                    0             0   \n",
      "                         SNP                  324           606   \n",
      "Stop_Codon_Del           DEL                   37            74   \n",
      "Stop_Codon_Ins           INS                   20             9   \n",
      "\n",
      "                                       SangerRecalibWES_AC  RNAseq_AC  HC_AC  \\\n",
      "Variant_Classification   Variant_Type                                          \n",
      "3'UTR                    DEL                             0          0      0   \n",
      "                         INS                             0          0      0   \n",
      "5'Flank                  DEL                             0          0      0   \n",
      "                         INS                             0          0      0   \n",
      "5'UTR                    DEL                             0          0      0   \n",
      "                         INS                             0          0      0   \n",
      "De_novo_Start_OutOfFrame DEL                            14         81      1   \n",
      "                         DNP                            14          0      0   \n",
      "                         INS                             6         75      0   \n",
      "                         SNP                           931       2108     62   \n",
      "Frame_Shift_Del          DEL                         23904      12003   3293   \n",
      "Frame_Shift_Ins          INS                          8690      13831   1273   \n",
      "IGR                      DEL                             0          0      0   \n",
      "                         INS                             0          0      0   \n",
      "In_Frame_Del             DEL                          2772       2518    421   \n",
      "In_Frame_Ins             INS                           465        827     49   \n",
      "Intron                   DEL                             0          0      0   \n",
      "                         INS                             0          0      0   \n",
      "Missense_Mutation        DNP                          5108          0    522   \n",
      "                         ONP                             0          0      0   \n",
      "                         SNP                        433167     237557  49198   \n",
      "                         TNP                            45          0      2   \n",
      "Nonsense_Mutation        DNP                           435          0     56   \n",
      "                         SNP                         25787      10806   3474   \n",
      "                         TNP                             2          0      0   \n",
      "Nonstop_Mutation         DNP                             4          0      1   \n",
      "                         SNP                           626        306     43   \n",
      "Silent                   DNP                           203          1     17   \n",
      "                         SNP                        226873     156684  23899   \n",
      "Splice_Site              DEL                           996        838    157   \n",
      "                         DNP                           214          0     31   \n",
      "                         INS                           459        528     71   \n",
      "                         ONP                             0          0      0   \n",
      "                         SNP                         23290       9195   3201   \n",
      "                         TNP                             0          0      0   \n",
      "Start_Codon_Del          DEL                            45         32      5   \n",
      "Start_Codon_Ins          INS                            10         57      1   \n",
      "Start_Codon_SNP          DNP                             9          0      0   \n",
      "                         SNP                           695        429     45   \n",
      "Stop_Codon_Del           DEL                            93         67     13   \n",
      "Stop_Codon_Ins           INS                            30         90      5   \n",
      "\n",
      "                                       RD_AC  WGS_AC  Variant_annotation  \\\n",
      "Variant_Classification   Variant_Type                                      \n",
      "3'UTR                    DEL               0      49                  49   \n",
      "                         INS               0      12                  12   \n",
      "5'Flank                  DEL               0      60                  60   \n",
      "                         INS               0      25                  25   \n",
      "5'UTR                    DEL               0      28                  28   \n",
      "                         INS               0       6                   6   \n",
      "De_novo_Start_OutOfFrame DEL               0      24                 114   \n",
      "                         DNP               0       0                  14   \n",
      "                         INS               0      31                 108   \n",
      "                         SNP               0    2221                4275   \n",
      "Frame_Shift_Del          DEL             184   11464               41302   \n",
      "Frame_Shift_Ins          INS              63    3250               24341   \n",
      "IGR                      DEL               0      77                  77   \n",
      "                         INS               0      28                  28   \n",
      "In_Frame_Del             DEL              18    1171                7080   \n",
      "In_Frame_Ins             INS               5     167                2867   \n",
      "Intron                   DEL               0     298                 298   \n",
      "                         INS               0      85                  85   \n",
      "Missense_Mutation        DNP              16       0                7455   \n",
      "                         ONP               0       0                   4   \n",
      "                         SNP            1187  160658              674507   \n",
      "                         TNP               0       0                  74   \n",
      "Nonsense_Mutation        DNP               2       0                 621   \n",
      "                         SNP             116    9245               38483   \n",
      "                         TNP               0       0                   4   \n",
      "Nonstop_Mutation         DNP               0       0                   7   \n",
      "                         SNP               1     233                1008   \n",
      "Silent                   DNP               0       0                 285   \n",
      "                         SNP             450   69799              394492   \n",
      "Splice_Site              DEL               5     459                2377   \n",
      "                         DNP               0       0                 414   \n",
      "                         INS               2     211                1400   \n",
      "                         ONP               0       0                   1   \n",
      "                         SNP              92    9808               39356   \n",
      "                         TNP               0       0                  15   \n",
      "Start_Codon_Del          DEL               0      20                  99   \n",
      "Start_Codon_Ins          INS               0       4                  78   \n",
      "Start_Codon_SNP          DNP               0       0                  11   \n",
      "                         SNP               1     362                1294   \n",
      "Stop_Codon_Del           DEL               0      39                 190   \n",
      "Stop_Codon_Ins           INS               0       9                 162   \n",
      "\n",
      "                                       CELL_LINE_NAME  \n",
      "Variant_Classification   Variant_Type                  \n",
      "3'UTR                    DEL                       49  \n",
      "                         INS                       12  \n",
      "5'Flank                  DEL                       60  \n",
      "                         INS                       25  \n",
      "5'UTR                    DEL                       28  \n",
      "                         INS                        6  \n",
      "De_novo_Start_OutOfFrame DEL                      114  \n",
      "                         DNP                       14  \n",
      "                         INS                      108  \n",
      "                         SNP                     4275  \n",
      "Frame_Shift_Del          DEL                    41302  \n",
      "Frame_Shift_Ins          INS                    24341  \n",
      "IGR                      DEL                       77  \n",
      "                         INS                       28  \n",
      "In_Frame_Del             DEL                     7080  \n",
      "In_Frame_Ins             INS                     2867  \n",
      "Intron                   DEL                      298  \n",
      "                         INS                       85  \n",
      "Missense_Mutation        DNP                     7455  \n",
      "                         ONP                        4  \n",
      "                         SNP                   674507  \n",
      "                         TNP                       74  \n",
      "Nonsense_Mutation        DNP                      621  \n",
      "                         SNP                    38483  \n",
      "                         TNP                        4  \n",
      "Nonstop_Mutation         DNP                        7  \n",
      "                         SNP                     1008  \n",
      "Silent                   DNP                      285  \n",
      "                         SNP                   394492  \n",
      "Splice_Site              DEL                     2377  \n",
      "                         DNP                      414  \n",
      "                         INS                     1400  \n",
      "                         ONP                        1  \n",
      "                         SNP                    39356  \n",
      "                         TNP                       15  \n",
      "Start_Codon_Del          DEL                       99  \n",
      "Start_Codon_Ins          INS                       78  \n",
      "Start_Codon_SNP          DNP                       11  \n",
      "                         SNP                     1294  \n",
      "Stop_Codon_Del           DEL                      190  \n",
      "Stop_Codon_Ins           INS                      162  \n",
      "\n",
      "[41 rows x 35 columns]\n"
     ]
    }
   ],
   "source": [
    "#select only 4 types of mutations: four types of nonsynonymous mutations, including missense and nonsense mutations, \n",
    "#frameshift insertions and deletions --> only those are tagged as mutated genes in the binary matrices\n",
    "print(CCLE_maf.columns)\n",
    "print(set(CCLE_maf['Variant_Classification'].values))\n",
    "print(CCLE_maf.groupby(['Variant_Classification','Variant_Type']).count())"
   ]
  },
  {
   "cell_type": "code",
   "execution_count": 114,
   "metadata": {
    "collapsed": true
   },
   "outputs": [],
   "source": [
    "CCLE_maf = CCLE_maf[['Variant_Classification', 'Hugo_Symbol', 'CELL_LINE_NAME']]"
   ]
  },
  {
   "cell_type": "code",
   "execution_count": 115,
   "metadata": {
    "collapsed": true
   },
   "outputs": [],
   "source": [
    "#Severity Score by type of mutation: https://ucsc-xena.gitbook.io/project/faq/basic-xena-browser\n",
    "#4 --> Nonsense_Mutation, frameshift_variant, stop_gained, splice_acceptor_variant, \n",
    "#splice_acceptor_variant&intron_variant, splice_donor_variant, splice_donor_variant&intron_variant, \n",
    "#Splice_Site, Frame_Shift_Del, Frame_Shift_Ins\n",
    "mut_4 = ['Splice_Site','Frame_Shift_Ins','Nonsense_Mutation','Frame_Shift_Del','Stop_Codon_Ins']\n",
    "#3 --> splice_region_variant, splice_region_variant&intron_variant, missense, \n",
    "#non_coding_exon_variant, missense_variant, Missense_Mutation, exon_variant, \n",
    "#RNA, Indel, start_lost, start_gained, De_novo_Start_OutOfFrame, Translation_Start_Site, \n",
    "#De_novo_Start_InFrame, stop_lost, Nonstop_Mutation, initiator_codon_variant, \n",
    "#5_prime_UTR_premature_start_codon_gain_variant, disruptive_inframe_deletion, \n",
    "#inframe_deletion, inframe_insertion, In_Frame_Del, In_Frame_Ins\n",
    "mut_3 = ['Nonstop_Mutation','Start_Codon_SNP','Missense_Mutation','In_Frame_Del',\n",
    "         'Stop_Codon_Del','In_Frame_Ins', 'Start_Codon_Del', 'Start_Codon_Ins', \n",
    "         'De_novo_Start_OutOfFrame', 'Translation_Start_Site', 'RNA']\n",
    "#2 --> synonymous_variant, 5_prime_UTR_variant, 3_prime_UTR_variant, 5'Flank, 3'Flank, 3'UTR, 5'UTR, \n",
    "#Silent, stop_retained_variant\n",
    "mut_2 = ['Silent',\"5'Flank\",\"3'UTR\",\"5'UTR\",\"3'Flank\"]\n",
    "#1 --> others, SV, upstreamgenevariant, downstream_gene_variant, intron_variant, intergenic_region\n",
    "mut_1 = [np.nan, 'IGR','Intron']\n",
    "#0 --> Wild type"
   ]
  },
  {
   "cell_type": "code",
   "execution_count": 116,
   "metadata": {
    "collapsed": true
   },
   "outputs": [],
   "source": [
    "\n",
    "mutated = ['Splice_Site','Frame_Shift_Del','Frame_Shift_Ins','In_Frame_Del','In_Frame_Ins', 'Missense_Mutation','Nonsense_Mutation']\n",
    "CCLE_maf.loc[:,'Mutated']   = 0\n",
    "CCLE_maf.loc[:,'Mutated_score']   = 0\n",
    "CCLE_maf.loc[CCLE_maf['Variant_Classification'].isin(mutated),'Mutated'] = 1\n",
    "CCLE_maf.loc[CCLE_maf['Variant_Classification'].isin(mut_4),'Mutated_score'] = 4\n",
    "CCLE_maf.loc[CCLE_maf['Variant_Classification'].isin(mut_3),'Mutated_score'] = 3\n",
    "CCLE_maf.loc[CCLE_maf['Variant_Classification'].isin(mut_2),'Mutated_score'] = 2\n",
    "CCLE_maf.loc[CCLE_maf['Variant_Classification'].isin(mut_1),'Mutated_score'] = 1"
   ]
  },
  {
   "cell_type": "code",
   "execution_count": 117,
   "metadata": {},
   "outputs": [
    {
     "data": {
      "text/plain": [
       "3    699185\n",
       "2    394957\n",
       "4    148476\n",
       "1       527\n",
       "Name: Mutated_score, dtype: int64"
      ]
     },
     "execution_count": 117,
     "metadata": {},
     "output_type": "execute_result"
    }
   ],
   "source": [
    "CCLE_maf.Mutated_score.value_counts(dropna=False)"
   ]
  },
  {
   "cell_type": "code",
   "execution_count": 118,
   "metadata": {},
   "outputs": [
    {
     "data": {
      "text/html": [
       "<div>\n",
       "<style scoped>\n",
       "    .dataframe tbody tr th:only-of-type {\n",
       "        vertical-align: middle;\n",
       "    }\n",
       "\n",
       "    .dataframe tbody tr th {\n",
       "        vertical-align: top;\n",
       "    }\n",
       "\n",
       "    .dataframe thead th {\n",
       "        text-align: right;\n",
       "    }\n",
       "</style>\n",
       "<table border=\"1\" class=\"dataframe\">\n",
       "  <thead>\n",
       "    <tr style=\"text-align: right;\">\n",
       "      <th></th>\n",
       "      <th></th>\n",
       "      <th>Mutated_score</th>\n",
       "    </tr>\n",
       "    <tr>\n",
       "      <th>CELL_LINE_NAME</th>\n",
       "      <th>Hugo_Symbol</th>\n",
       "      <th></th>\n",
       "    </tr>\n",
       "  </thead>\n",
       "  <tbody>\n",
       "    <tr>\n",
       "      <th rowspan=\"5\" valign=\"top\">127399</th>\n",
       "      <th>ABCA10</th>\n",
       "      <td>3</td>\n",
       "    </tr>\n",
       "    <tr>\n",
       "      <th>ABCA2</th>\n",
       "      <td>4</td>\n",
       "    </tr>\n",
       "    <tr>\n",
       "      <th>ABCA5</th>\n",
       "      <td>3</td>\n",
       "    </tr>\n",
       "    <tr>\n",
       "      <th>ABCA9</th>\n",
       "      <td>3</td>\n",
       "    </tr>\n",
       "    <tr>\n",
       "      <th>ABCC10</th>\n",
       "      <td>4</td>\n",
       "    </tr>\n",
       "  </tbody>\n",
       "</table>\n",
       "</div>"
      ],
      "text/plain": [
       "                            Mutated_score\n",
       "CELL_LINE_NAME Hugo_Symbol               \n",
       "127399         ABCA10                   3\n",
       "               ABCA2                    4\n",
       "               ABCA5                    3\n",
       "               ABCA9                    3\n",
       "               ABCC10                   4"
      ]
     },
     "execution_count": 118,
     "metadata": {},
     "output_type": "execute_result"
    }
   ],
   "source": [
    "CCLE_maf_score_matrix = CCLE_maf.drop(columns=['Variant_Classification','Mutated'])\n",
    "CCLE_maf_score_matrix = CCLE_maf_score_matrix.groupby([ 'CELL_LINE_NAME','Hugo_Symbol']).max()\n",
    "CCLE_maf_score_matrix.head()"
   ]
  },
  {
   "cell_type": "code",
   "execution_count": 119,
   "metadata": {
    "collapsed": true
   },
   "outputs": [],
   "source": [
    "CCLE_maf_score_matrix = CCLE_maf_score_matrix.unstack(level=0)"
   ]
  },
  {
   "cell_type": "code",
   "execution_count": 120,
   "metadata": {},
   "outputs": [
    {
     "data": {
      "text/plain": [
       "(19350, 1585)"
      ]
     },
     "execution_count": 120,
     "metadata": {},
     "output_type": "execute_result"
    }
   ],
   "source": [
    "CCLE_maf_score_matrix.shape"
   ]
  },
  {
   "cell_type": "code",
   "execution_count": 121,
   "metadata": {
    "collapsed": true
   },
   "outputs": [],
   "source": [
    "del CCLE_maf_score_matrix.index.name\n",
    "CCLE_maf_score_matrix.columns = CCLE_maf_score_matrix.columns.droplevel() \n",
    "CCLE_maf_score_matrix.columns.name = None"
   ]
  },
  {
   "cell_type": "code",
   "execution_count": 122,
   "metadata": {},
   "outputs": [
    {
     "data": {
      "text/html": [
       "<div>\n",
       "<style scoped>\n",
       "    .dataframe tbody tr th:only-of-type {\n",
       "        vertical-align: middle;\n",
       "    }\n",
       "\n",
       "    .dataframe tbody tr th {\n",
       "        vertical-align: top;\n",
       "    }\n",
       "\n",
       "    .dataframe thead th {\n",
       "        text-align: right;\n",
       "    }\n",
       "</style>\n",
       "<table border=\"1\" class=\"dataframe\">\n",
       "  <thead>\n",
       "    <tr style=\"text-align: right;\">\n",
       "      <th></th>\n",
       "      <th>127399</th>\n",
       "      <th>201T</th>\n",
       "      <th>22RV1</th>\n",
       "      <th>2313287</th>\n",
       "      <th>253J</th>\n",
       "      <th>253JBV</th>\n",
       "      <th>42MGBA</th>\n",
       "      <th>451LU</th>\n",
       "      <th>5637</th>\n",
       "      <th>59M</th>\n",
       "      <th>...</th>\n",
       "      <th>YD15</th>\n",
       "      <th>YD38</th>\n",
       "      <th>YD8</th>\n",
       "      <th>YH13</th>\n",
       "      <th>YKG1</th>\n",
       "      <th>YMB1E</th>\n",
       "      <th>YT</th>\n",
       "      <th>ZR751</th>\n",
       "      <th>ZR7530</th>\n",
       "      <th>[MERGED</th>\n",
       "    </tr>\n",
       "  </thead>\n",
       "  <tbody>\n",
       "    <tr>\n",
       "      <th>A1BG</th>\n",
       "      <td>0.0</td>\n",
       "      <td>0.0</td>\n",
       "      <td>0.0</td>\n",
       "      <td>0.0</td>\n",
       "      <td>0.0</td>\n",
       "      <td>0.0</td>\n",
       "      <td>0.0</td>\n",
       "      <td>0.0</td>\n",
       "      <td>0.0</td>\n",
       "      <td>0.0</td>\n",
       "      <td>...</td>\n",
       "      <td>0.0</td>\n",
       "      <td>0.0</td>\n",
       "      <td>0.0</td>\n",
       "      <td>0.0</td>\n",
       "      <td>0.0</td>\n",
       "      <td>0.0</td>\n",
       "      <td>0.0</td>\n",
       "      <td>0.0</td>\n",
       "      <td>0.0</td>\n",
       "      <td>0.0</td>\n",
       "    </tr>\n",
       "    <tr>\n",
       "      <th>A1CF</th>\n",
       "      <td>0.0</td>\n",
       "      <td>0.0</td>\n",
       "      <td>3.0</td>\n",
       "      <td>0.0</td>\n",
       "      <td>0.0</td>\n",
       "      <td>0.0</td>\n",
       "      <td>0.0</td>\n",
       "      <td>0.0</td>\n",
       "      <td>0.0</td>\n",
       "      <td>0.0</td>\n",
       "      <td>...</td>\n",
       "      <td>0.0</td>\n",
       "      <td>0.0</td>\n",
       "      <td>0.0</td>\n",
       "      <td>0.0</td>\n",
       "      <td>0.0</td>\n",
       "      <td>0.0</td>\n",
       "      <td>0.0</td>\n",
       "      <td>0.0</td>\n",
       "      <td>0.0</td>\n",
       "      <td>0.0</td>\n",
       "    </tr>\n",
       "    <tr>\n",
       "      <th>A2M</th>\n",
       "      <td>0.0</td>\n",
       "      <td>0.0</td>\n",
       "      <td>0.0</td>\n",
       "      <td>3.0</td>\n",
       "      <td>0.0</td>\n",
       "      <td>0.0</td>\n",
       "      <td>0.0</td>\n",
       "      <td>0.0</td>\n",
       "      <td>0.0</td>\n",
       "      <td>0.0</td>\n",
       "      <td>...</td>\n",
       "      <td>0.0</td>\n",
       "      <td>0.0</td>\n",
       "      <td>0.0</td>\n",
       "      <td>0.0</td>\n",
       "      <td>0.0</td>\n",
       "      <td>0.0</td>\n",
       "      <td>0.0</td>\n",
       "      <td>0.0</td>\n",
       "      <td>0.0</td>\n",
       "      <td>4.0</td>\n",
       "    </tr>\n",
       "    <tr>\n",
       "      <th>A2ML1</th>\n",
       "      <td>0.0</td>\n",
       "      <td>0.0</td>\n",
       "      <td>3.0</td>\n",
       "      <td>3.0</td>\n",
       "      <td>0.0</td>\n",
       "      <td>0.0</td>\n",
       "      <td>0.0</td>\n",
       "      <td>0.0</td>\n",
       "      <td>0.0</td>\n",
       "      <td>0.0</td>\n",
       "      <td>...</td>\n",
       "      <td>0.0</td>\n",
       "      <td>0.0</td>\n",
       "      <td>0.0</td>\n",
       "      <td>0.0</td>\n",
       "      <td>3.0</td>\n",
       "      <td>0.0</td>\n",
       "      <td>0.0</td>\n",
       "      <td>0.0</td>\n",
       "      <td>0.0</td>\n",
       "      <td>3.0</td>\n",
       "    </tr>\n",
       "    <tr>\n",
       "      <th>A3GALT2</th>\n",
       "      <td>0.0</td>\n",
       "      <td>0.0</td>\n",
       "      <td>0.0</td>\n",
       "      <td>0.0</td>\n",
       "      <td>0.0</td>\n",
       "      <td>0.0</td>\n",
       "      <td>0.0</td>\n",
       "      <td>0.0</td>\n",
       "      <td>0.0</td>\n",
       "      <td>0.0</td>\n",
       "      <td>...</td>\n",
       "      <td>0.0</td>\n",
       "      <td>0.0</td>\n",
       "      <td>0.0</td>\n",
       "      <td>0.0</td>\n",
       "      <td>0.0</td>\n",
       "      <td>0.0</td>\n",
       "      <td>0.0</td>\n",
       "      <td>0.0</td>\n",
       "      <td>0.0</td>\n",
       "      <td>0.0</td>\n",
       "    </tr>\n",
       "  </tbody>\n",
       "</table>\n",
       "<p>5 rows × 1585 columns</p>\n",
       "</div>"
      ],
      "text/plain": [
       "         127399  201T  22RV1  2313287  253J  253JBV  42MGBA  451LU  5637  59M  \\\n",
       "A1BG        0.0   0.0    0.0      0.0   0.0     0.0     0.0    0.0   0.0  0.0   \n",
       "A1CF        0.0   0.0    3.0      0.0   0.0     0.0     0.0    0.0   0.0  0.0   \n",
       "A2M         0.0   0.0    0.0      3.0   0.0     0.0     0.0    0.0   0.0  0.0   \n",
       "A2ML1       0.0   0.0    3.0      3.0   0.0     0.0     0.0    0.0   0.0  0.0   \n",
       "A3GALT2     0.0   0.0    0.0      0.0   0.0     0.0     0.0    0.0   0.0  0.0   \n",
       "\n",
       "         ...  YD15  YD38  YD8  YH13  YKG1  YMB1E   YT  ZR751  ZR7530  [MERGED  \n",
       "A1BG     ...   0.0   0.0  0.0   0.0   0.0    0.0  0.0    0.0     0.0      0.0  \n",
       "A1CF     ...   0.0   0.0  0.0   0.0   0.0    0.0  0.0    0.0     0.0      0.0  \n",
       "A2M      ...   0.0   0.0  0.0   0.0   0.0    0.0  0.0    0.0     0.0      4.0  \n",
       "A2ML1    ...   0.0   0.0  0.0   0.0   3.0    0.0  0.0    0.0     0.0      3.0  \n",
       "A3GALT2  ...   0.0   0.0  0.0   0.0   0.0    0.0  0.0    0.0     0.0      0.0  \n",
       "\n",
       "[5 rows x 1585 columns]"
      ]
     },
     "execution_count": 122,
     "metadata": {},
     "output_type": "execute_result"
    }
   ],
   "source": [
    "CCLE_maf_score_matrix = CCLE_maf_score_matrix.fillna(value = 0) #all combinations of gene and cell line not reported in the MAF file is assumed to be wildtype \n",
    "CCLE_maf_score_matrix.head()"
   ]
  },
  {
   "cell_type": "code",
   "execution_count": 123,
   "metadata": {},
   "outputs": [
    {
     "data": {
      "text/html": [
       "<div>\n",
       "<style scoped>\n",
       "    .dataframe tbody tr th:only-of-type {\n",
       "        vertical-align: middle;\n",
       "    }\n",
       "\n",
       "    .dataframe tbody tr th {\n",
       "        vertical-align: top;\n",
       "    }\n",
       "\n",
       "    .dataframe thead th {\n",
       "        text-align: right;\n",
       "    }\n",
       "</style>\n",
       "<table border=\"1\" class=\"dataframe\">\n",
       "  <thead>\n",
       "    <tr style=\"text-align: right;\">\n",
       "      <th></th>\n",
       "      <th>127399</th>\n",
       "      <th>201T</th>\n",
       "      <th>22RV1</th>\n",
       "      <th>2313287</th>\n",
       "      <th>253J</th>\n",
       "      <th>253JBV</th>\n",
       "      <th>42MGBA</th>\n",
       "      <th>451LU</th>\n",
       "      <th>5637</th>\n",
       "      <th>59M</th>\n",
       "      <th>...</th>\n",
       "      <th>YD15</th>\n",
       "      <th>YD38</th>\n",
       "      <th>YD8</th>\n",
       "      <th>YH13</th>\n",
       "      <th>YKG1</th>\n",
       "      <th>YMB1E</th>\n",
       "      <th>YT</th>\n",
       "      <th>ZR751</th>\n",
       "      <th>ZR7530</th>\n",
       "      <th>[MERGED</th>\n",
       "    </tr>\n",
       "  </thead>\n",
       "  <tbody>\n",
       "    <tr>\n",
       "      <th>0.0</th>\n",
       "      <td>19088.0</td>\n",
       "      <td>18944.0</td>\n",
       "      <td>16800</td>\n",
       "      <td>16730</td>\n",
       "      <td>18953.0</td>\n",
       "      <td>18914.0</td>\n",
       "      <td>19084.0</td>\n",
       "      <td>18732.0</td>\n",
       "      <td>18726</td>\n",
       "      <td>19022</td>\n",
       "      <td>...</td>\n",
       "      <td>19124.0</td>\n",
       "      <td>18744.0</td>\n",
       "      <td>18908.0</td>\n",
       "      <td>19017.0</td>\n",
       "      <td>18873.0</td>\n",
       "      <td>19002.0</td>\n",
       "      <td>18629.0</td>\n",
       "      <td>19003.0</td>\n",
       "      <td>18807.0</td>\n",
       "      <td>17040.0</td>\n",
       "    </tr>\n",
       "    <tr>\n",
       "      <th>1.0</th>\n",
       "      <td>NaN</td>\n",
       "      <td>NaN</td>\n",
       "      <td>9</td>\n",
       "      <td>5</td>\n",
       "      <td>NaN</td>\n",
       "      <td>NaN</td>\n",
       "      <td>NaN</td>\n",
       "      <td>NaN</td>\n",
       "      <td>2</td>\n",
       "      <td>1</td>\n",
       "      <td>...</td>\n",
       "      <td>NaN</td>\n",
       "      <td>NaN</td>\n",
       "      <td>NaN</td>\n",
       "      <td>NaN</td>\n",
       "      <td>NaN</td>\n",
       "      <td>NaN</td>\n",
       "      <td>NaN</td>\n",
       "      <td>NaN</td>\n",
       "      <td>NaN</td>\n",
       "      <td>NaN</td>\n",
       "    </tr>\n",
       "    <tr>\n",
       "      <th>2.0</th>\n",
       "      <td>75.0</td>\n",
       "      <td>119.0</td>\n",
       "      <td>495</td>\n",
       "      <td>558</td>\n",
       "      <td>89.0</td>\n",
       "      <td>102.0</td>\n",
       "      <td>61.0</td>\n",
       "      <td>177.0</td>\n",
       "      <td>167</td>\n",
       "      <td>74</td>\n",
       "      <td>...</td>\n",
       "      <td>62.0</td>\n",
       "      <td>153.0</td>\n",
       "      <td>124.0</td>\n",
       "      <td>105.0</td>\n",
       "      <td>127.0</td>\n",
       "      <td>101.0</td>\n",
       "      <td>194.0</td>\n",
       "      <td>98.0</td>\n",
       "      <td>172.0</td>\n",
       "      <td>493.0</td>\n",
       "    </tr>\n",
       "    <tr>\n",
       "      <th>3.0</th>\n",
       "      <td>150.0</td>\n",
       "      <td>256.0</td>\n",
       "      <td>1342</td>\n",
       "      <td>1381</td>\n",
       "      <td>256.0</td>\n",
       "      <td>275.0</td>\n",
       "      <td>166.0</td>\n",
       "      <td>385.0</td>\n",
       "      <td>397</td>\n",
       "      <td>206</td>\n",
       "      <td>...</td>\n",
       "      <td>142.0</td>\n",
       "      <td>386.0</td>\n",
       "      <td>267.0</td>\n",
       "      <td>192.0</td>\n",
       "      <td>303.0</td>\n",
       "      <td>220.0</td>\n",
       "      <td>467.0</td>\n",
       "      <td>203.0</td>\n",
       "      <td>322.0</td>\n",
       "      <td>1536.0</td>\n",
       "    </tr>\n",
       "    <tr>\n",
       "      <th>4.0</th>\n",
       "      <td>37.0</td>\n",
       "      <td>31.0</td>\n",
       "      <td>704</td>\n",
       "      <td>676</td>\n",
       "      <td>52.0</td>\n",
       "      <td>59.0</td>\n",
       "      <td>39.0</td>\n",
       "      <td>56.0</td>\n",
       "      <td>58</td>\n",
       "      <td>47</td>\n",
       "      <td>...</td>\n",
       "      <td>22.0</td>\n",
       "      <td>67.0</td>\n",
       "      <td>51.0</td>\n",
       "      <td>36.0</td>\n",
       "      <td>47.0</td>\n",
       "      <td>27.0</td>\n",
       "      <td>60.0</td>\n",
       "      <td>46.0</td>\n",
       "      <td>49.0</td>\n",
       "      <td>281.0</td>\n",
       "    </tr>\n",
       "  </tbody>\n",
       "</table>\n",
       "<p>5 rows × 1585 columns</p>\n",
       "</div>"
      ],
      "text/plain": [
       "      127399     201T  22RV1  2313287     253J   253JBV   42MGBA    451LU  \\\n",
       "0.0  19088.0  18944.0  16800    16730  18953.0  18914.0  19084.0  18732.0   \n",
       "1.0      NaN      NaN      9        5      NaN      NaN      NaN      NaN   \n",
       "2.0     75.0    119.0    495      558     89.0    102.0     61.0    177.0   \n",
       "3.0    150.0    256.0   1342     1381    256.0    275.0    166.0    385.0   \n",
       "4.0     37.0     31.0    704      676     52.0     59.0     39.0     56.0   \n",
       "\n",
       "      5637    59M  ...     YD15     YD38      YD8     YH13     YKG1    YMB1E  \\\n",
       "0.0  18726  19022  ...  19124.0  18744.0  18908.0  19017.0  18873.0  19002.0   \n",
       "1.0      2      1  ...      NaN      NaN      NaN      NaN      NaN      NaN   \n",
       "2.0    167     74  ...     62.0    153.0    124.0    105.0    127.0    101.0   \n",
       "3.0    397    206  ...    142.0    386.0    267.0    192.0    303.0    220.0   \n",
       "4.0     58     47  ...     22.0     67.0     51.0     36.0     47.0     27.0   \n",
       "\n",
       "          YT    ZR751   ZR7530  [MERGED  \n",
       "0.0  18629.0  19003.0  18807.0  17040.0  \n",
       "1.0      NaN      NaN      NaN      NaN  \n",
       "2.0    194.0     98.0    172.0    493.0  \n",
       "3.0    467.0    203.0    322.0   1536.0  \n",
       "4.0     60.0     46.0     49.0    281.0  \n",
       "\n",
       "[5 rows x 1585 columns]"
      ]
     },
     "execution_count": 123,
     "metadata": {},
     "output_type": "execute_result"
    }
   ],
   "source": [
    "CCLE_maf_score_matrix.apply(pd.value_counts)"
   ]
  },
  {
   "cell_type": "code",
   "execution_count": 124,
   "metadata": {},
   "outputs": [
    {
     "data": {
      "text/plain": [
       "0"
      ]
     },
     "execution_count": 124,
     "metadata": {},
     "output_type": "execute_result"
    }
   ],
   "source": [
    "CCLE_maf_score_matrix.isna().sum().sum()"
   ]
  },
  {
   "cell_type": "code",
   "execution_count": 125,
   "metadata": {},
   "outputs": [
    {
     "data": {
      "text/plain": [
       "0.0    19088\n",
       "3.0      150\n",
       "2.0       75\n",
       "4.0       37\n",
       "Name: 127399, dtype: int64"
      ]
     },
     "execution_count": 125,
     "metadata": {},
     "output_type": "execute_result"
    }
   ],
   "source": [
    "CCLE_maf_score_matrix['127399'].value_counts()"
   ]
  },
  {
   "cell_type": "code",
   "execution_count": 126,
   "metadata": {},
   "outputs": [
    {
     "data": {
      "text/plain": [
       "1    840301\n",
       "0    402844\n",
       "Name: Mutated, dtype: int64"
      ]
     },
     "execution_count": 126,
     "metadata": {},
     "output_type": "execute_result"
    }
   ],
   "source": [
    "CCLE_maf.Mutated.value_counts()\n",
    "\n"
   ]
  },
  {
   "cell_type": "code",
   "execution_count": 129,
   "metadata": {},
   "outputs": [],
   "source": [
    "CCLE_maf.drop(columns=['Mutated_score'], inplace = True)"
   ]
  },
  {
   "cell_type": "code",
   "execution_count": 130,
   "metadata": {},
   "outputs": [
    {
     "data": {
      "text/plain": [
       "Index(['Hugo_Symbol', 'CELL_LINE_NAME', 'Mutated'], dtype='object')"
      ]
     },
     "execution_count": 130,
     "metadata": {},
     "output_type": "execute_result"
    }
   ],
   "source": [
    "CCLE_maf.columns"
   ]
  },
  {
   "cell_type": "code",
   "execution_count": 131,
   "metadata": {
    "collapsed": true
   },
   "outputs": [],
   "source": [
    "CCLE_maf_matrix = CCLE_maf.groupby([ 'CELL_LINE_NAME','Hugo_Symbol']).count()"
   ]
  },
  {
   "cell_type": "code",
   "execution_count": 132,
   "metadata": {
    "collapsed": true
   },
   "outputs": [],
   "source": [
    "CCLE_maf_matrix = CCLE_maf_matrix.unstack(level=0)"
   ]
  },
  {
   "cell_type": "code",
   "execution_count": 133,
   "metadata": {},
   "outputs": [
    {
     "data": {
      "text/plain": [
       "(19350, 1585)"
      ]
     },
     "execution_count": 133,
     "metadata": {},
     "output_type": "execute_result"
    }
   ],
   "source": [
    "CCLE_maf_matrix.shape"
   ]
  },
  {
   "cell_type": "code",
   "execution_count": 134,
   "metadata": {
    "collapsed": true
   },
   "outputs": [],
   "source": [
    "del CCLE_maf_matrix.index.name\n",
    "CCLE_maf_matrix.columns = CCLE_maf_matrix.columns.droplevel() \n",
    "CCLE_maf_matrix.columns.name = None"
   ]
  },
  {
   "cell_type": "code",
   "execution_count": 135,
   "metadata": {},
   "outputs": [
    {
     "data": {
      "text/html": [
       "<div>\n",
       "<style scoped>\n",
       "    .dataframe tbody tr th:only-of-type {\n",
       "        vertical-align: middle;\n",
       "    }\n",
       "\n",
       "    .dataframe tbody tr th {\n",
       "        vertical-align: top;\n",
       "    }\n",
       "\n",
       "    .dataframe thead th {\n",
       "        text-align: right;\n",
       "    }\n",
       "</style>\n",
       "<table border=\"1\" class=\"dataframe\">\n",
       "  <thead>\n",
       "    <tr style=\"text-align: right;\">\n",
       "      <th></th>\n",
       "      <th>127399</th>\n",
       "      <th>201T</th>\n",
       "      <th>22RV1</th>\n",
       "      <th>2313287</th>\n",
       "      <th>253J</th>\n",
       "      <th>253JBV</th>\n",
       "      <th>42MGBA</th>\n",
       "      <th>451LU</th>\n",
       "      <th>5637</th>\n",
       "      <th>59M</th>\n",
       "      <th>...</th>\n",
       "      <th>YD15</th>\n",
       "      <th>YD38</th>\n",
       "      <th>YD8</th>\n",
       "      <th>YH13</th>\n",
       "      <th>YKG1</th>\n",
       "      <th>YMB1E</th>\n",
       "      <th>YT</th>\n",
       "      <th>ZR751</th>\n",
       "      <th>ZR7530</th>\n",
       "      <th>[MERGED</th>\n",
       "    </tr>\n",
       "  </thead>\n",
       "  <tbody>\n",
       "    <tr>\n",
       "      <th>A1BG</th>\n",
       "      <td>0.0</td>\n",
       "      <td>0.0</td>\n",
       "      <td>0.0</td>\n",
       "      <td>0.0</td>\n",
       "      <td>0.0</td>\n",
       "      <td>0.0</td>\n",
       "      <td>0.0</td>\n",
       "      <td>0.0</td>\n",
       "      <td>0.0</td>\n",
       "      <td>0.0</td>\n",
       "      <td>...</td>\n",
       "      <td>0.0</td>\n",
       "      <td>0.0</td>\n",
       "      <td>0.0</td>\n",
       "      <td>0.0</td>\n",
       "      <td>0.0</td>\n",
       "      <td>0.0</td>\n",
       "      <td>0.0</td>\n",
       "      <td>0.0</td>\n",
       "      <td>0.0</td>\n",
       "      <td>0.0</td>\n",
       "    </tr>\n",
       "    <tr>\n",
       "      <th>A1CF</th>\n",
       "      <td>0.0</td>\n",
       "      <td>0.0</td>\n",
       "      <td>1.0</td>\n",
       "      <td>0.0</td>\n",
       "      <td>0.0</td>\n",
       "      <td>0.0</td>\n",
       "      <td>0.0</td>\n",
       "      <td>0.0</td>\n",
       "      <td>0.0</td>\n",
       "      <td>0.0</td>\n",
       "      <td>...</td>\n",
       "      <td>0.0</td>\n",
       "      <td>0.0</td>\n",
       "      <td>0.0</td>\n",
       "      <td>0.0</td>\n",
       "      <td>0.0</td>\n",
       "      <td>0.0</td>\n",
       "      <td>0.0</td>\n",
       "      <td>0.0</td>\n",
       "      <td>0.0</td>\n",
       "      <td>0.0</td>\n",
       "    </tr>\n",
       "    <tr>\n",
       "      <th>A2M</th>\n",
       "      <td>0.0</td>\n",
       "      <td>0.0</td>\n",
       "      <td>0.0</td>\n",
       "      <td>1.0</td>\n",
       "      <td>0.0</td>\n",
       "      <td>0.0</td>\n",
       "      <td>0.0</td>\n",
       "      <td>0.0</td>\n",
       "      <td>0.0</td>\n",
       "      <td>0.0</td>\n",
       "      <td>...</td>\n",
       "      <td>0.0</td>\n",
       "      <td>0.0</td>\n",
       "      <td>0.0</td>\n",
       "      <td>0.0</td>\n",
       "      <td>0.0</td>\n",
       "      <td>0.0</td>\n",
       "      <td>0.0</td>\n",
       "      <td>0.0</td>\n",
       "      <td>0.0</td>\n",
       "      <td>1.0</td>\n",
       "    </tr>\n",
       "    <tr>\n",
       "      <th>A2ML1</th>\n",
       "      <td>0.0</td>\n",
       "      <td>0.0</td>\n",
       "      <td>1.0</td>\n",
       "      <td>1.0</td>\n",
       "      <td>0.0</td>\n",
       "      <td>0.0</td>\n",
       "      <td>0.0</td>\n",
       "      <td>0.0</td>\n",
       "      <td>0.0</td>\n",
       "      <td>0.0</td>\n",
       "      <td>...</td>\n",
       "      <td>0.0</td>\n",
       "      <td>0.0</td>\n",
       "      <td>0.0</td>\n",
       "      <td>0.0</td>\n",
       "      <td>1.0</td>\n",
       "      <td>0.0</td>\n",
       "      <td>0.0</td>\n",
       "      <td>0.0</td>\n",
       "      <td>0.0</td>\n",
       "      <td>2.0</td>\n",
       "    </tr>\n",
       "    <tr>\n",
       "      <th>A3GALT2</th>\n",
       "      <td>0.0</td>\n",
       "      <td>0.0</td>\n",
       "      <td>0.0</td>\n",
       "      <td>0.0</td>\n",
       "      <td>0.0</td>\n",
       "      <td>0.0</td>\n",
       "      <td>0.0</td>\n",
       "      <td>0.0</td>\n",
       "      <td>0.0</td>\n",
       "      <td>0.0</td>\n",
       "      <td>...</td>\n",
       "      <td>0.0</td>\n",
       "      <td>0.0</td>\n",
       "      <td>0.0</td>\n",
       "      <td>0.0</td>\n",
       "      <td>0.0</td>\n",
       "      <td>0.0</td>\n",
       "      <td>0.0</td>\n",
       "      <td>0.0</td>\n",
       "      <td>0.0</td>\n",
       "      <td>0.0</td>\n",
       "    </tr>\n",
       "  </tbody>\n",
       "</table>\n",
       "<p>5 rows × 1585 columns</p>\n",
       "</div>"
      ],
      "text/plain": [
       "         127399  201T  22RV1  2313287  253J  253JBV  42MGBA  451LU  5637  59M  \\\n",
       "A1BG        0.0   0.0    0.0      0.0   0.0     0.0     0.0    0.0   0.0  0.0   \n",
       "A1CF        0.0   0.0    1.0      0.0   0.0     0.0     0.0    0.0   0.0  0.0   \n",
       "A2M         0.0   0.0    0.0      1.0   0.0     0.0     0.0    0.0   0.0  0.0   \n",
       "A2ML1       0.0   0.0    1.0      1.0   0.0     0.0     0.0    0.0   0.0  0.0   \n",
       "A3GALT2     0.0   0.0    0.0      0.0   0.0     0.0     0.0    0.0   0.0  0.0   \n",
       "\n",
       "         ...  YD15  YD38  YD8  YH13  YKG1  YMB1E   YT  ZR751  ZR7530  [MERGED  \n",
       "A1BG     ...   0.0   0.0  0.0   0.0   0.0    0.0  0.0    0.0     0.0      0.0  \n",
       "A1CF     ...   0.0   0.0  0.0   0.0   0.0    0.0  0.0    0.0     0.0      0.0  \n",
       "A2M      ...   0.0   0.0  0.0   0.0   0.0    0.0  0.0    0.0     0.0      1.0  \n",
       "A2ML1    ...   0.0   0.0  0.0   0.0   1.0    0.0  0.0    0.0     0.0      2.0  \n",
       "A3GALT2  ...   0.0   0.0  0.0   0.0   0.0    0.0  0.0    0.0     0.0      0.0  \n",
       "\n",
       "[5 rows x 1585 columns]"
      ]
     },
     "execution_count": 135,
     "metadata": {},
     "output_type": "execute_result"
    }
   ],
   "source": [
    "CCLE_maf_matrix = CCLE_maf_matrix.fillna(value = 0) #all combinations of gene and cell line not reported in the MAF file is assumed to be wildtype \n",
    "CCLE_maf_matrix.head()"
   ]
  },
  {
   "cell_type": "code",
   "execution_count": 72,
   "metadata": {
    "collapsed": true
   },
   "outputs": [],
   "source": [
    "import os\n",
    "import glob\n",
    "\n",
    "#TCGA MAF data is obtained from GDC Portal using a manifest to download this query MAF files + open: \n",
    "#https://portal.gdc.cancer.gov/repository?filters=%7B%22op%22%3A%22and%22%2C%22content%22%3A%5B%7B%22op%22%3A%22in%22%2C%22content%22%3A%7B%22field%22%3A%22files.access%22%2C%22value%22%3A%5B%22open%22%5D%7D%7D%2C%7B%22op%22%3A%22in%22%2C%22content%22%3A%7B%22field%22%3A%22files.data_format%22%2C%22value%22%3A%5B%22MAF%22%5D%7D%7D%5D%7D\n",
    "#long process \n",
    "if not os.path.exists('maf_TCGA.csv'):\n",
    "    paths = glob.glob('maf_TCGA/**/*.somatic.maf.gz' , recursive=True)\n",
    "\n",
    "    df = pd.DataFrame()\n",
    "    i = 0\n",
    "    for maf in paths:\n",
    "        i+=1\n",
    "        print(i)\n",
    "        d = pd.read_csv(maf, compression='gzip', delimiter='\\t', skiprows= 5)\n",
    "        if d.columns[0] == 'Hugo_Symbol' :\n",
    "            df = df.append(d)\n",
    "        else:\n",
    "            print(d.columns[0])\n",
    "    df.to_csv('maf_TCGA.csv')\n",
    "            \n",
    "else:    \n",
    "    TCGA_maf_read = pd.read_csv('maf_TCGA.csv', usecols=['Variant_Classification', 'Variant_Type','Hugo_Symbol', 'case_id'])\n",
    "\n",
    "\n",
    "    "
   ]
  },
  {
   "cell_type": "code",
   "execution_count": 73,
   "metadata": {},
   "outputs": [
    {
     "name": "stdout",
     "output_type": "stream",
     "text": [
      "Index(['Hugo_Symbol', 'Variant_Classification', 'Variant_Type', 'case_id'], dtype='object')\n",
      "                                     Hugo_Symbol  case_id\n",
      "Variant_Classification Variant_Type                      \n",
      "3'Flank                DEL                  6202     6202\n",
      "                       INS                  1779     1779\n",
      "                       SNP                 78791    78791\n",
      "3'UTR                  DEL                 73092    73092\n",
      "                       INS                 21134    21134\n",
      "                       SNP                737635   737635\n",
      "5'Flank                DEL                  2183     2183\n",
      "                       INS                   732      732\n",
      "                       SNP                 62431    62431\n",
      "5'UTR                  DEL                  8361     8361\n",
      "                       INS                  2933     2933\n",
      "                       SNP                205110   205110\n",
      "Frame_Shift_Del        DEL                166957   166957\n",
      "Frame_Shift_Ins        INS                 68058    68058\n",
      "IGR                    DEL                    26       26\n",
      "                       INS                    16       16\n",
      "                       SNP                  1155     1155\n",
      "In_Frame_Del           DEL                 15950    15950\n",
      "In_Frame_Ins           INS                  8218     8218\n",
      "Intron                 DEL                 20240    20240\n",
      "                       INS                  8002     8002\n",
      "                       SNP                421184   421184\n",
      "Missense_Mutation      DEL                   332      332\n",
      "                       SNP               5796466  5796466\n",
      "Nonsense_Mutation      DEL                   250      250\n",
      "                       INS                  6036     6036\n",
      "                       SNP                462857   462857\n",
      "Nonstop_Mutation       DEL                    19       19\n",
      "                       INS                     9        9\n",
      "                       SNP                  5784     5784\n",
      "RNA                    DEL                  4327     4327\n",
      "                       INS                  1792     1792\n",
      "                       SNP                188957   188957\n",
      "Silent                 INS                     1        1\n",
      "                       SNP               2288366  2288366\n",
      "Splice_Region          DEL                  1541     1541\n",
      "                       INS                   849      849\n",
      "                       SNP                107644   107644\n",
      "Splice_Site            DEL                  4477     4477\n",
      "                       INS                   570      570\n",
      "                       SNP                128041   128041\n",
      "Translation_Start_Site DEL                    10       10\n",
      "                       INS                     7        7\n",
      "                       SNP                  7642     7642\n"
     ]
    }
   ],
   "source": [
    "#select only 4 types of mutations: four types of nonsynonymous mutations, including missense and nonsense mutations, \n",
    "#frameshift insertions and deletions --> only those are tagged as mutated genes in the binary matrices\n",
    "#Red --> Nonsense_Mutation, frameshift_variant, stop_gained, splice_acceptor_variant, splice_acceptor_variant&intron_variant, splice_donor_variant, splice_donor_variant&intron_variant, Splice_Site, Frame_Shift_Del, Frame_Shift_Ins\n",
    "print(TCGA_maf_read.columns)\n",
    "set(TCGA_maf_read['Variant_Classification'].values)\n",
    "print(TCGA_maf_read.groupby(['Variant_Classification','Variant_Type']).count())"
   ]
  },
  {
   "cell_type": "code",
   "execution_count": 74,
   "metadata": {},
   "outputs": [
    {
     "name": "stdout",
     "output_type": "stream",
     "text": [
      "{\"3'Flank\", 'Intron', \"3'UTR\", 'Nonstop_Mutation', \"5'Flank\", 'Splice_Region', 'In_Frame_Del', 'In_Frame_Ins', 'Missense_Mutation', 'IGR', 'Translation_Start_Site', \"5'UTR\", 'Nonsense_Mutation', 'Frame_Shift_Ins', 'RNA', 'Silent', 'Splice_Site', 'Frame_Shift_Del'}\n"
     ]
    }
   ],
   "source": [
    "print(set(TCGA_maf_read['Variant_Classification'].values))"
   ]
  },
  {
   "cell_type": "code",
   "execution_count": 76,
   "metadata": {
    "collapsed": true
   },
   "outputs": [],
   "source": [
    "mutated = ['Splice_Site','Frame_Shift_Del','Frame_Shift_Ins','In_Frame_Del','In_Frame_Ins', 'Missense_Mutation','Nonsense_Mutation']\n",
    "TCGA_maf_read.loc[:,'Mutated']   = 0\n",
    "TCGA_maf_read.loc[:,'Mutated_score']   = 0\n",
    "TCGA_maf_read.loc[TCGA_maf_read['Variant_Classification'].isin(mutated),'Mutated'] = 1\n",
    "TCGA_maf_read.loc[TCGA_maf_read['Variant_Classification'].isin(mut_4),'Mutated_score'] = 4\n",
    "TCGA_maf_read.loc[TCGA_maf_read['Variant_Classification'].isin(mut_3),'Mutated_score'] = 3\n",
    "TCGA_maf_read.loc[TCGA_maf_read['Variant_Classification'].isin(mut_2),'Mutated_score'] = 2\n",
    "TCGA_maf_read.loc[TCGA_maf_read['Variant_Classification'].isin(mut_1),'Mutated_score'] = 1"
   ]
  },
  {
   "cell_type": "code",
   "execution_count": 78,
   "metadata": {},
   "outputs": [
    {
     "data": {
      "text/plain": [
       "3    6029513\n",
       "2    3488750\n",
       "4     837246\n",
       "1     450623\n",
       "0     110034\n",
       "Name: Mutated_score, dtype: int64"
      ]
     },
     "execution_count": 78,
     "metadata": {},
     "output_type": "execute_result"
    }
   ],
   "source": [
    "TCGA_maf_read.Mutated_score.value_counts(dropna=False)"
   ]
  },
  {
   "cell_type": "code",
   "execution_count": 138,
   "metadata": {},
   "outputs": [
    {
     "data": {
      "text/plain": [
       "Index(['Hugo_Symbol', 'Variant_Classification', 'Variant_Type', 'case_id',\n",
       "       'Mutated', 'Mutated_score'],\n",
       "      dtype='object')"
      ]
     },
     "execution_count": 138,
     "metadata": {},
     "output_type": "execute_result"
    }
   ],
   "source": [
    "TCGA_maf_read.columns"
   ]
  },
  {
   "cell_type": "code",
   "execution_count": 82,
   "metadata": {},
   "outputs": [
    {
     "data": {
      "text/html": [
       "<div>\n",
       "<style scoped>\n",
       "    .dataframe tbody tr th:only-of-type {\n",
       "        vertical-align: middle;\n",
       "    }\n",
       "\n",
       "    .dataframe tbody tr th {\n",
       "        vertical-align: top;\n",
       "    }\n",
       "\n",
       "    .dataframe thead th {\n",
       "        text-align: right;\n",
       "    }\n",
       "</style>\n",
       "<table border=\"1\" class=\"dataframe\">\n",
       "  <thead>\n",
       "    <tr style=\"text-align: right;\">\n",
       "      <th></th>\n",
       "      <th></th>\n",
       "      <th>Mutated_score</th>\n",
       "    </tr>\n",
       "    <tr>\n",
       "      <th>case_id</th>\n",
       "      <th>Hugo_Symbol</th>\n",
       "      <th></th>\n",
       "    </tr>\n",
       "  </thead>\n",
       "  <tbody>\n",
       "    <tr>\n",
       "      <th rowspan=\"5\" valign=\"top\">0004d251-3f70-4395-b175-c94c2f5b1b81</th>\n",
       "      <th>ADGRA2</th>\n",
       "      <td>3</td>\n",
       "    </tr>\n",
       "    <tr>\n",
       "      <th>ADGRD2</th>\n",
       "      <td>3</td>\n",
       "    </tr>\n",
       "    <tr>\n",
       "      <th>ADGRF1</th>\n",
       "      <td>2</td>\n",
       "    </tr>\n",
       "    <tr>\n",
       "      <th>APBA2</th>\n",
       "      <td>2</td>\n",
       "    </tr>\n",
       "    <tr>\n",
       "      <th>ARFIP2</th>\n",
       "      <td>3</td>\n",
       "    </tr>\n",
       "  </tbody>\n",
       "</table>\n",
       "</div>"
      ],
      "text/plain": [
       "                                                  Mutated_score\n",
       "case_id                              Hugo_Symbol               \n",
       "0004d251-3f70-4395-b175-c94c2f5b1b81 ADGRA2                   3\n",
       "                                     ADGRD2                   3\n",
       "                                     ADGRF1                   2\n",
       "                                     APBA2                    2\n",
       "                                     ARFIP2                   3"
      ]
     },
     "execution_count": 82,
     "metadata": {},
     "output_type": "execute_result"
    }
   ],
   "source": [
    "TCGA_maf_score_matrix = TCGA_maf_read.drop(columns=['Variant_Classification','Mutated', 'Variant_Type'])\n",
    "TCGA_maf_score_matrix = TCGA_maf_score_matrix.groupby([ 'case_id','Hugo_Symbol']).max()\n",
    "TCGA_maf_score_matrix.head()"
   ]
  },
  {
   "cell_type": "code",
   "execution_count": 83,
   "metadata": {
    "collapsed": true
   },
   "outputs": [],
   "source": [
    "TCGA_maf_score_matrix = TCGA_maf_score_matrix.unstack(level=0)"
   ]
  },
  {
   "cell_type": "code",
   "execution_count": 84,
   "metadata": {},
   "outputs": [
    {
     "data": {
      "text/plain": [
       "(22109, 10189)"
      ]
     },
     "execution_count": 84,
     "metadata": {},
     "output_type": "execute_result"
    }
   ],
   "source": [
    "TCGA_maf_score_matrix.shape"
   ]
  },
  {
   "cell_type": "code",
   "execution_count": 85,
   "metadata": {
    "collapsed": true
   },
   "outputs": [],
   "source": [
    "del TCGA_maf_score_matrix.index.name\n",
    "TCGA_maf_score_matrix.columns = TCGA_maf_score_matrix.columns.droplevel() \n",
    "TCGA_maf_score_matrix.columns.name = None"
   ]
  },
  {
   "cell_type": "code",
   "execution_count": 86,
   "metadata": {},
   "outputs": [
    {
     "data": {
      "text/html": [
       "<div>\n",
       "<style scoped>\n",
       "    .dataframe tbody tr th:only-of-type {\n",
       "        vertical-align: middle;\n",
       "    }\n",
       "\n",
       "    .dataframe tbody tr th {\n",
       "        vertical-align: top;\n",
       "    }\n",
       "\n",
       "    .dataframe thead th {\n",
       "        text-align: right;\n",
       "    }\n",
       "</style>\n",
       "<table border=\"1\" class=\"dataframe\">\n",
       "  <thead>\n",
       "    <tr style=\"text-align: right;\">\n",
       "      <th></th>\n",
       "      <th>0004d251-3f70-4395-b175-c94c2f5b1b81</th>\n",
       "      <th>000d566c-96c7-4f1c-b36e-fa2222467983</th>\n",
       "      <th>0011a67b-1ba9-4a32-a6b8-7850759a38cf</th>\n",
       "      <th>001887aa-36d0-463f-8bca-dec7043b4f2e</th>\n",
       "      <th>001944e5-af34-4061-9c09-bb9ea346f6fd</th>\n",
       "      <th>001ad307-4ad3-4f1d-b2fc-efc032871c7e</th>\n",
       "      <th>001cef41-ff86-4d3f-a140-a647ac4b10a1</th>\n",
       "      <th>001e0309-9c50-42b0-9e38-347883ee2cd3</th>\n",
       "      <th>0022478c-4dfd-4cbe-a05e-fb20310844e3</th>\n",
       "      <th>0024ab57-4036-4b0f-b7a1-040f97787022</th>\n",
       "      <th>...</th>\n",
       "      <th>ffc73551-55e9-4bbb-bd15-76088551964b</th>\n",
       "      <th>ffc915b8-cacd-4974-a040-ee496f0efc0e</th>\n",
       "      <th>ffcec8e5-9fd3-4b42-a7cb-74761f713cf4</th>\n",
       "      <th>ffcf851d-7fa1-4b45-911a-a3fbd74c253a</th>\n",
       "      <th>ffcfa005-a04f-458e-9d1d-86143dd823e5</th>\n",
       "      <th>ffd8d31f-bc4b-4e19-bbaf-0e26e9f3a107</th>\n",
       "      <th>ffedc8be-1056-4205-b9d9-99b5bdb872db</th>\n",
       "      <th>fff304a2-113f-499d-a88c-9d3660c348d9</th>\n",
       "      <th>fff35c80-88cd-4923-80c1-0273ba5bed0f</th>\n",
       "      <th>fffdb1d9-58d1-425c-ac12-1e1e5f443bf7</th>\n",
       "    </tr>\n",
       "  </thead>\n",
       "  <tbody>\n",
       "    <tr>\n",
       "      <th>A1BG</th>\n",
       "      <td>0.0</td>\n",
       "      <td>0.0</td>\n",
       "      <td>0.0</td>\n",
       "      <td>0.0</td>\n",
       "      <td>0.0</td>\n",
       "      <td>0.0</td>\n",
       "      <td>0.0</td>\n",
       "      <td>0.0</td>\n",
       "      <td>0.0</td>\n",
       "      <td>0.0</td>\n",
       "      <td>...</td>\n",
       "      <td>0.0</td>\n",
       "      <td>0.0</td>\n",
       "      <td>0.0</td>\n",
       "      <td>0.0</td>\n",
       "      <td>0.0</td>\n",
       "      <td>0.0</td>\n",
       "      <td>0.0</td>\n",
       "      <td>0.0</td>\n",
       "      <td>0.0</td>\n",
       "      <td>0.0</td>\n",
       "    </tr>\n",
       "    <tr>\n",
       "      <th>A1CF</th>\n",
       "      <td>0.0</td>\n",
       "      <td>0.0</td>\n",
       "      <td>0.0</td>\n",
       "      <td>0.0</td>\n",
       "      <td>0.0</td>\n",
       "      <td>0.0</td>\n",
       "      <td>0.0</td>\n",
       "      <td>0.0</td>\n",
       "      <td>0.0</td>\n",
       "      <td>0.0</td>\n",
       "      <td>...</td>\n",
       "      <td>0.0</td>\n",
       "      <td>0.0</td>\n",
       "      <td>0.0</td>\n",
       "      <td>0.0</td>\n",
       "      <td>0.0</td>\n",
       "      <td>0.0</td>\n",
       "      <td>0.0</td>\n",
       "      <td>0.0</td>\n",
       "      <td>0.0</td>\n",
       "      <td>0.0</td>\n",
       "    </tr>\n",
       "    <tr>\n",
       "      <th>A2M</th>\n",
       "      <td>0.0</td>\n",
       "      <td>0.0</td>\n",
       "      <td>3.0</td>\n",
       "      <td>0.0</td>\n",
       "      <td>0.0</td>\n",
       "      <td>0.0</td>\n",
       "      <td>0.0</td>\n",
       "      <td>0.0</td>\n",
       "      <td>0.0</td>\n",
       "      <td>0.0</td>\n",
       "      <td>...</td>\n",
       "      <td>0.0</td>\n",
       "      <td>0.0</td>\n",
       "      <td>0.0</td>\n",
       "      <td>0.0</td>\n",
       "      <td>0.0</td>\n",
       "      <td>0.0</td>\n",
       "      <td>0.0</td>\n",
       "      <td>0.0</td>\n",
       "      <td>0.0</td>\n",
       "      <td>0.0</td>\n",
       "    </tr>\n",
       "    <tr>\n",
       "      <th>A2ML1</th>\n",
       "      <td>0.0</td>\n",
       "      <td>0.0</td>\n",
       "      <td>0.0</td>\n",
       "      <td>0.0</td>\n",
       "      <td>0.0</td>\n",
       "      <td>0.0</td>\n",
       "      <td>0.0</td>\n",
       "      <td>0.0</td>\n",
       "      <td>0.0</td>\n",
       "      <td>0.0</td>\n",
       "      <td>...</td>\n",
       "      <td>0.0</td>\n",
       "      <td>0.0</td>\n",
       "      <td>0.0</td>\n",
       "      <td>0.0</td>\n",
       "      <td>0.0</td>\n",
       "      <td>0.0</td>\n",
       "      <td>0.0</td>\n",
       "      <td>0.0</td>\n",
       "      <td>0.0</td>\n",
       "      <td>0.0</td>\n",
       "    </tr>\n",
       "    <tr>\n",
       "      <th>A2MP1</th>\n",
       "      <td>0.0</td>\n",
       "      <td>0.0</td>\n",
       "      <td>0.0</td>\n",
       "      <td>0.0</td>\n",
       "      <td>0.0</td>\n",
       "      <td>0.0</td>\n",
       "      <td>0.0</td>\n",
       "      <td>0.0</td>\n",
       "      <td>0.0</td>\n",
       "      <td>0.0</td>\n",
       "      <td>...</td>\n",
       "      <td>0.0</td>\n",
       "      <td>0.0</td>\n",
       "      <td>0.0</td>\n",
       "      <td>0.0</td>\n",
       "      <td>0.0</td>\n",
       "      <td>0.0</td>\n",
       "      <td>0.0</td>\n",
       "      <td>0.0</td>\n",
       "      <td>0.0</td>\n",
       "      <td>0.0</td>\n",
       "    </tr>\n",
       "  </tbody>\n",
       "</table>\n",
       "<p>5 rows × 10189 columns</p>\n",
       "</div>"
      ],
      "text/plain": [
       "       0004d251-3f70-4395-b175-c94c2f5b1b81  \\\n",
       "A1BG                                    0.0   \n",
       "A1CF                                    0.0   \n",
       "A2M                                     0.0   \n",
       "A2ML1                                   0.0   \n",
       "A2MP1                                   0.0   \n",
       "\n",
       "       000d566c-96c7-4f1c-b36e-fa2222467983  \\\n",
       "A1BG                                    0.0   \n",
       "A1CF                                    0.0   \n",
       "A2M                                     0.0   \n",
       "A2ML1                                   0.0   \n",
       "A2MP1                                   0.0   \n",
       "\n",
       "       0011a67b-1ba9-4a32-a6b8-7850759a38cf  \\\n",
       "A1BG                                    0.0   \n",
       "A1CF                                    0.0   \n",
       "A2M                                     3.0   \n",
       "A2ML1                                   0.0   \n",
       "A2MP1                                   0.0   \n",
       "\n",
       "       001887aa-36d0-463f-8bca-dec7043b4f2e  \\\n",
       "A1BG                                    0.0   \n",
       "A1CF                                    0.0   \n",
       "A2M                                     0.0   \n",
       "A2ML1                                   0.0   \n",
       "A2MP1                                   0.0   \n",
       "\n",
       "       001944e5-af34-4061-9c09-bb9ea346f6fd  \\\n",
       "A1BG                                    0.0   \n",
       "A1CF                                    0.0   \n",
       "A2M                                     0.0   \n",
       "A2ML1                                   0.0   \n",
       "A2MP1                                   0.0   \n",
       "\n",
       "       001ad307-4ad3-4f1d-b2fc-efc032871c7e  \\\n",
       "A1BG                                    0.0   \n",
       "A1CF                                    0.0   \n",
       "A2M                                     0.0   \n",
       "A2ML1                                   0.0   \n",
       "A2MP1                                   0.0   \n",
       "\n",
       "       001cef41-ff86-4d3f-a140-a647ac4b10a1  \\\n",
       "A1BG                                    0.0   \n",
       "A1CF                                    0.0   \n",
       "A2M                                     0.0   \n",
       "A2ML1                                   0.0   \n",
       "A2MP1                                   0.0   \n",
       "\n",
       "       001e0309-9c50-42b0-9e38-347883ee2cd3  \\\n",
       "A1BG                                    0.0   \n",
       "A1CF                                    0.0   \n",
       "A2M                                     0.0   \n",
       "A2ML1                                   0.0   \n",
       "A2MP1                                   0.0   \n",
       "\n",
       "       0022478c-4dfd-4cbe-a05e-fb20310844e3  \\\n",
       "A1BG                                    0.0   \n",
       "A1CF                                    0.0   \n",
       "A2M                                     0.0   \n",
       "A2ML1                                   0.0   \n",
       "A2MP1                                   0.0   \n",
       "\n",
       "       0024ab57-4036-4b0f-b7a1-040f97787022  ...  \\\n",
       "A1BG                                    0.0  ...   \n",
       "A1CF                                    0.0  ...   \n",
       "A2M                                     0.0  ...   \n",
       "A2ML1                                   0.0  ...   \n",
       "A2MP1                                   0.0  ...   \n",
       "\n",
       "       ffc73551-55e9-4bbb-bd15-76088551964b  \\\n",
       "A1BG                                    0.0   \n",
       "A1CF                                    0.0   \n",
       "A2M                                     0.0   \n",
       "A2ML1                                   0.0   \n",
       "A2MP1                                   0.0   \n",
       "\n",
       "       ffc915b8-cacd-4974-a040-ee496f0efc0e  \\\n",
       "A1BG                                    0.0   \n",
       "A1CF                                    0.0   \n",
       "A2M                                     0.0   \n",
       "A2ML1                                   0.0   \n",
       "A2MP1                                   0.0   \n",
       "\n",
       "       ffcec8e5-9fd3-4b42-a7cb-74761f713cf4  \\\n",
       "A1BG                                    0.0   \n",
       "A1CF                                    0.0   \n",
       "A2M                                     0.0   \n",
       "A2ML1                                   0.0   \n",
       "A2MP1                                   0.0   \n",
       "\n",
       "       ffcf851d-7fa1-4b45-911a-a3fbd74c253a  \\\n",
       "A1BG                                    0.0   \n",
       "A1CF                                    0.0   \n",
       "A2M                                     0.0   \n",
       "A2ML1                                   0.0   \n",
       "A2MP1                                   0.0   \n",
       "\n",
       "       ffcfa005-a04f-458e-9d1d-86143dd823e5  \\\n",
       "A1BG                                    0.0   \n",
       "A1CF                                    0.0   \n",
       "A2M                                     0.0   \n",
       "A2ML1                                   0.0   \n",
       "A2MP1                                   0.0   \n",
       "\n",
       "       ffd8d31f-bc4b-4e19-bbaf-0e26e9f3a107  \\\n",
       "A1BG                                    0.0   \n",
       "A1CF                                    0.0   \n",
       "A2M                                     0.0   \n",
       "A2ML1                                   0.0   \n",
       "A2MP1                                   0.0   \n",
       "\n",
       "       ffedc8be-1056-4205-b9d9-99b5bdb872db  \\\n",
       "A1BG                                    0.0   \n",
       "A1CF                                    0.0   \n",
       "A2M                                     0.0   \n",
       "A2ML1                                   0.0   \n",
       "A2MP1                                   0.0   \n",
       "\n",
       "       fff304a2-113f-499d-a88c-9d3660c348d9  \\\n",
       "A1BG                                    0.0   \n",
       "A1CF                                    0.0   \n",
       "A2M                                     0.0   \n",
       "A2ML1                                   0.0   \n",
       "A2MP1                                   0.0   \n",
       "\n",
       "       fff35c80-88cd-4923-80c1-0273ba5bed0f  \\\n",
       "A1BG                                    0.0   \n",
       "A1CF                                    0.0   \n",
       "A2M                                     0.0   \n",
       "A2ML1                                   0.0   \n",
       "A2MP1                                   0.0   \n",
       "\n",
       "       fffdb1d9-58d1-425c-ac12-1e1e5f443bf7  \n",
       "A1BG                                    0.0  \n",
       "A1CF                                    0.0  \n",
       "A2M                                     0.0  \n",
       "A2ML1                                   0.0  \n",
       "A2MP1                                   0.0  \n",
       "\n",
       "[5 rows x 10189 columns]"
      ]
     },
     "execution_count": 86,
     "metadata": {},
     "output_type": "execute_result"
    }
   ],
   "source": [
    "TCGA_maf_score_matrix = TCGA_maf_score_matrix.fillna(value = 0) #all combinations of gene and cell line not reported in the MAF file is assumed to be wildtype \n",
    "TCGA_maf_score_matrix.head()"
   ]
  },
  {
   "cell_type": "code",
   "execution_count": 87,
   "metadata": {},
   "outputs": [
    {
     "data": {
      "text/html": [
       "<div>\n",
       "<style scoped>\n",
       "    .dataframe tbody tr th:only-of-type {\n",
       "        vertical-align: middle;\n",
       "    }\n",
       "\n",
       "    .dataframe tbody tr th {\n",
       "        vertical-align: top;\n",
       "    }\n",
       "\n",
       "    .dataframe thead th {\n",
       "        text-align: right;\n",
       "    }\n",
       "</style>\n",
       "<table border=\"1\" class=\"dataframe\">\n",
       "  <thead>\n",
       "    <tr style=\"text-align: right;\">\n",
       "      <th></th>\n",
       "      <th>0004d251-3f70-4395-b175-c94c2f5b1b81</th>\n",
       "      <th>000d566c-96c7-4f1c-b36e-fa2222467983</th>\n",
       "      <th>0011a67b-1ba9-4a32-a6b8-7850759a38cf</th>\n",
       "      <th>001887aa-36d0-463f-8bca-dec7043b4f2e</th>\n",
       "      <th>001944e5-af34-4061-9c09-bb9ea346f6fd</th>\n",
       "      <th>001ad307-4ad3-4f1d-b2fc-efc032871c7e</th>\n",
       "      <th>001cef41-ff86-4d3f-a140-a647ac4b10a1</th>\n",
       "      <th>001e0309-9c50-42b0-9e38-347883ee2cd3</th>\n",
       "      <th>0022478c-4dfd-4cbe-a05e-fb20310844e3</th>\n",
       "      <th>0024ab57-4036-4b0f-b7a1-040f97787022</th>\n",
       "      <th>...</th>\n",
       "      <th>ffc73551-55e9-4bbb-bd15-76088551964b</th>\n",
       "      <th>ffc915b8-cacd-4974-a040-ee496f0efc0e</th>\n",
       "      <th>ffcec8e5-9fd3-4b42-a7cb-74761f713cf4</th>\n",
       "      <th>ffcf851d-7fa1-4b45-911a-a3fbd74c253a</th>\n",
       "      <th>ffcfa005-a04f-458e-9d1d-86143dd823e5</th>\n",
       "      <th>ffd8d31f-bc4b-4e19-bbaf-0e26e9f3a107</th>\n",
       "      <th>ffedc8be-1056-4205-b9d9-99b5bdb872db</th>\n",
       "      <th>fff304a2-113f-499d-a88c-9d3660c348d9</th>\n",
       "      <th>fff35c80-88cd-4923-80c1-0273ba5bed0f</th>\n",
       "      <th>fffdb1d9-58d1-425c-ac12-1e1e5f443bf7</th>\n",
       "    </tr>\n",
       "  </thead>\n",
       "  <tbody>\n",
       "    <tr>\n",
       "      <th>0.0</th>\n",
       "      <td>21985</td>\n",
       "      <td>22088</td>\n",
       "      <td>21995</td>\n",
       "      <td>22079.0</td>\n",
       "      <td>21987</td>\n",
       "      <td>22062</td>\n",
       "      <td>22073</td>\n",
       "      <td>22071</td>\n",
       "      <td>22020</td>\n",
       "      <td>22098</td>\n",
       "      <td>...</td>\n",
       "      <td>22100.0</td>\n",
       "      <td>22095.0</td>\n",
       "      <td>22069.0</td>\n",
       "      <td>21962</td>\n",
       "      <td>21952</td>\n",
       "      <td>21943</td>\n",
       "      <td>22046</td>\n",
       "      <td>22088.0</td>\n",
       "      <td>22095.0</td>\n",
       "      <td>22105.0</td>\n",
       "    </tr>\n",
       "    <tr>\n",
       "      <th>1.0</th>\n",
       "      <td>8</td>\n",
       "      <td>1</td>\n",
       "      <td>7</td>\n",
       "      <td>NaN</td>\n",
       "      <td>1</td>\n",
       "      <td>3</td>\n",
       "      <td>1</td>\n",
       "      <td>1</td>\n",
       "      <td>6</td>\n",
       "      <td>1</td>\n",
       "      <td>...</td>\n",
       "      <td>NaN</td>\n",
       "      <td>NaN</td>\n",
       "      <td>NaN</td>\n",
       "      <td>5</td>\n",
       "      <td>8</td>\n",
       "      <td>8</td>\n",
       "      <td>1</td>\n",
       "      <td>NaN</td>\n",
       "      <td>NaN</td>\n",
       "      <td>NaN</td>\n",
       "    </tr>\n",
       "    <tr>\n",
       "      <th>2.0</th>\n",
       "      <td>46</td>\n",
       "      <td>4</td>\n",
       "      <td>38</td>\n",
       "      <td>7.0</td>\n",
       "      <td>38</td>\n",
       "      <td>13</td>\n",
       "      <td>11</td>\n",
       "      <td>9</td>\n",
       "      <td>22</td>\n",
       "      <td>3</td>\n",
       "      <td>...</td>\n",
       "      <td>2.0</td>\n",
       "      <td>1.0</td>\n",
       "      <td>16.0</td>\n",
       "      <td>44</td>\n",
       "      <td>55</td>\n",
       "      <td>66</td>\n",
       "      <td>22</td>\n",
       "      <td>5.0</td>\n",
       "      <td>3.0</td>\n",
       "      <td>NaN</td>\n",
       "    </tr>\n",
       "    <tr>\n",
       "      <th>3.0</th>\n",
       "      <td>59</td>\n",
       "      <td>15</td>\n",
       "      <td>57</td>\n",
       "      <td>19.0</td>\n",
       "      <td>68</td>\n",
       "      <td>25</td>\n",
       "      <td>20</td>\n",
       "      <td>22</td>\n",
       "      <td>51</td>\n",
       "      <td>6</td>\n",
       "      <td>...</td>\n",
       "      <td>7.0</td>\n",
       "      <td>13.0</td>\n",
       "      <td>22.0</td>\n",
       "      <td>91</td>\n",
       "      <td>80</td>\n",
       "      <td>76</td>\n",
       "      <td>34</td>\n",
       "      <td>13.0</td>\n",
       "      <td>10.0</td>\n",
       "      <td>4.0</td>\n",
       "    </tr>\n",
       "    <tr>\n",
       "      <th>4.0</th>\n",
       "      <td>11</td>\n",
       "      <td>1</td>\n",
       "      <td>12</td>\n",
       "      <td>4.0</td>\n",
       "      <td>15</td>\n",
       "      <td>6</td>\n",
       "      <td>4</td>\n",
       "      <td>6</td>\n",
       "      <td>10</td>\n",
       "      <td>1</td>\n",
       "      <td>...</td>\n",
       "      <td>NaN</td>\n",
       "      <td>NaN</td>\n",
       "      <td>2.0</td>\n",
       "      <td>7</td>\n",
       "      <td>14</td>\n",
       "      <td>16</td>\n",
       "      <td>6</td>\n",
       "      <td>3.0</td>\n",
       "      <td>1.0</td>\n",
       "      <td>NaN</td>\n",
       "    </tr>\n",
       "  </tbody>\n",
       "</table>\n",
       "<p>5 rows × 10189 columns</p>\n",
       "</div>"
      ],
      "text/plain": [
       "     0004d251-3f70-4395-b175-c94c2f5b1b81  \\\n",
       "0.0                                 21985   \n",
       "1.0                                     8   \n",
       "2.0                                    46   \n",
       "3.0                                    59   \n",
       "4.0                                    11   \n",
       "\n",
       "     000d566c-96c7-4f1c-b36e-fa2222467983  \\\n",
       "0.0                                 22088   \n",
       "1.0                                     1   \n",
       "2.0                                     4   \n",
       "3.0                                    15   \n",
       "4.0                                     1   \n",
       "\n",
       "     0011a67b-1ba9-4a32-a6b8-7850759a38cf  \\\n",
       "0.0                                 21995   \n",
       "1.0                                     7   \n",
       "2.0                                    38   \n",
       "3.0                                    57   \n",
       "4.0                                    12   \n",
       "\n",
       "     001887aa-36d0-463f-8bca-dec7043b4f2e  \\\n",
       "0.0                               22079.0   \n",
       "1.0                                   NaN   \n",
       "2.0                                   7.0   \n",
       "3.0                                  19.0   \n",
       "4.0                                   4.0   \n",
       "\n",
       "     001944e5-af34-4061-9c09-bb9ea346f6fd  \\\n",
       "0.0                                 21987   \n",
       "1.0                                     1   \n",
       "2.0                                    38   \n",
       "3.0                                    68   \n",
       "4.0                                    15   \n",
       "\n",
       "     001ad307-4ad3-4f1d-b2fc-efc032871c7e  \\\n",
       "0.0                                 22062   \n",
       "1.0                                     3   \n",
       "2.0                                    13   \n",
       "3.0                                    25   \n",
       "4.0                                     6   \n",
       "\n",
       "     001cef41-ff86-4d3f-a140-a647ac4b10a1  \\\n",
       "0.0                                 22073   \n",
       "1.0                                     1   \n",
       "2.0                                    11   \n",
       "3.0                                    20   \n",
       "4.0                                     4   \n",
       "\n",
       "     001e0309-9c50-42b0-9e38-347883ee2cd3  \\\n",
       "0.0                                 22071   \n",
       "1.0                                     1   \n",
       "2.0                                     9   \n",
       "3.0                                    22   \n",
       "4.0                                     6   \n",
       "\n",
       "     0022478c-4dfd-4cbe-a05e-fb20310844e3  \\\n",
       "0.0                                 22020   \n",
       "1.0                                     6   \n",
       "2.0                                    22   \n",
       "3.0                                    51   \n",
       "4.0                                    10   \n",
       "\n",
       "     0024ab57-4036-4b0f-b7a1-040f97787022  ...  \\\n",
       "0.0                                 22098  ...   \n",
       "1.0                                     1  ...   \n",
       "2.0                                     3  ...   \n",
       "3.0                                     6  ...   \n",
       "4.0                                     1  ...   \n",
       "\n",
       "     ffc73551-55e9-4bbb-bd15-76088551964b  \\\n",
       "0.0                               22100.0   \n",
       "1.0                                   NaN   \n",
       "2.0                                   2.0   \n",
       "3.0                                   7.0   \n",
       "4.0                                   NaN   \n",
       "\n",
       "     ffc915b8-cacd-4974-a040-ee496f0efc0e  \\\n",
       "0.0                               22095.0   \n",
       "1.0                                   NaN   \n",
       "2.0                                   1.0   \n",
       "3.0                                  13.0   \n",
       "4.0                                   NaN   \n",
       "\n",
       "     ffcec8e5-9fd3-4b42-a7cb-74761f713cf4  \\\n",
       "0.0                               22069.0   \n",
       "1.0                                   NaN   \n",
       "2.0                                  16.0   \n",
       "3.0                                  22.0   \n",
       "4.0                                   2.0   \n",
       "\n",
       "     ffcf851d-7fa1-4b45-911a-a3fbd74c253a  \\\n",
       "0.0                                 21962   \n",
       "1.0                                     5   \n",
       "2.0                                    44   \n",
       "3.0                                    91   \n",
       "4.0                                     7   \n",
       "\n",
       "     ffcfa005-a04f-458e-9d1d-86143dd823e5  \\\n",
       "0.0                                 21952   \n",
       "1.0                                     8   \n",
       "2.0                                    55   \n",
       "3.0                                    80   \n",
       "4.0                                    14   \n",
       "\n",
       "     ffd8d31f-bc4b-4e19-bbaf-0e26e9f3a107  \\\n",
       "0.0                                 21943   \n",
       "1.0                                     8   \n",
       "2.0                                    66   \n",
       "3.0                                    76   \n",
       "4.0                                    16   \n",
       "\n",
       "     ffedc8be-1056-4205-b9d9-99b5bdb872db  \\\n",
       "0.0                                 22046   \n",
       "1.0                                     1   \n",
       "2.0                                    22   \n",
       "3.0                                    34   \n",
       "4.0                                     6   \n",
       "\n",
       "     fff304a2-113f-499d-a88c-9d3660c348d9  \\\n",
       "0.0                               22088.0   \n",
       "1.0                                   NaN   \n",
       "2.0                                   5.0   \n",
       "3.0                                  13.0   \n",
       "4.0                                   3.0   \n",
       "\n",
       "     fff35c80-88cd-4923-80c1-0273ba5bed0f  \\\n",
       "0.0                               22095.0   \n",
       "1.0                                   NaN   \n",
       "2.0                                   3.0   \n",
       "3.0                                  10.0   \n",
       "4.0                                   1.0   \n",
       "\n",
       "     fffdb1d9-58d1-425c-ac12-1e1e5f443bf7  \n",
       "0.0                               22105.0  \n",
       "1.0                                   NaN  \n",
       "2.0                                   NaN  \n",
       "3.0                                   4.0  \n",
       "4.0                                   NaN  \n",
       "\n",
       "[5 rows x 10189 columns]"
      ]
     },
     "execution_count": 87,
     "metadata": {},
     "output_type": "execute_result"
    }
   ],
   "source": [
    "TCGA_maf_score_matrix.apply(pd.value_counts)"
   ]
  },
  {
   "cell_type": "code",
   "execution_count": 88,
   "metadata": {},
   "outputs": [
    {
     "data": {
      "text/plain": [
       "0"
      ]
     },
     "execution_count": 88,
     "metadata": {},
     "output_type": "execute_result"
    }
   ],
   "source": [
    "TCGA_maf_score_matrix.isna().sum().sum()"
   ]
  },
  {
   "cell_type": "code",
   "execution_count": 139,
   "metadata": {},
   "outputs": [
    {
     "data": {
      "text/plain": [
       "1    6658212\n",
       "0    4257954\n",
       "Name: Mutated, dtype: int64"
      ]
     },
     "execution_count": 139,
     "metadata": {},
     "output_type": "execute_result"
    }
   ],
   "source": [
    "TCGA_maf_read.Mutated.value_counts()"
   ]
  },
  {
   "cell_type": "code",
   "execution_count": 140,
   "metadata": {},
   "outputs": [
    {
     "data": {
      "text/plain": [
       "Index(['Hugo_Symbol', 'Variant_Classification', 'Variant_Type', 'case_id',\n",
       "       'Mutated', 'Mutated_score'],\n",
       "      dtype='object')"
      ]
     },
     "execution_count": 140,
     "metadata": {},
     "output_type": "execute_result"
    }
   ],
   "source": [
    "TCGA_maf_read.columns"
   ]
  },
  {
   "cell_type": "code",
   "execution_count": 141,
   "metadata": {
    "collapsed": true
   },
   "outputs": [],
   "source": [
    "TCGA_maf_read.drop(columns=['Variant_Classification', 'Variant_Type','Mutated_score'], inplace=True)"
   ]
  },
  {
   "cell_type": "code",
   "execution_count": 142,
   "metadata": {
    "collapsed": true
   },
   "outputs": [],
   "source": [
    "TCGA_maf_matrix = TCGA_maf_read.groupby([ 'case_id','Hugo_Symbol']).count()"
   ]
  },
  {
   "cell_type": "code",
   "execution_count": 143,
   "metadata": {
    "collapsed": true
   },
   "outputs": [],
   "source": [
    "TCGA_maf_matrix = TCGA_maf_matrix.unstack(level=0)"
   ]
  },
  {
   "cell_type": "code",
   "execution_count": 144,
   "metadata": {
    "collapsed": true
   },
   "outputs": [],
   "source": [
    "del TCGA_maf_matrix.index.name\n",
    "TCGA_maf_matrix.columns = TCGA_maf_matrix.columns.droplevel() \n",
    "TCGA_maf_matrix.columns.name = None\n"
   ]
  },
  {
   "cell_type": "code",
   "execution_count": 146,
   "metadata": {},
   "outputs": [
    {
     "data": {
      "text/plain": [
       "(22109, 10189)"
      ]
     },
     "execution_count": 146,
     "metadata": {},
     "output_type": "execute_result"
    }
   ],
   "source": [
    "TCGA_maf_matrix = TCGA_maf_matrix.fillna(value = 0) #all combinations of gene and cell line not reported in the MAF file are assumed to be wildtype \n",
    "TCGA_maf_matrix.head()"
   ]
  },
  {
   "cell_type": "code",
   "execution_count": null,
   "metadata": {
    "collapsed": true
   },
   "outputs": [],
   "source": []
  },
  {
   "cell_type": "code",
   "execution_count": 136,
   "metadata": {},
   "outputs": [
    {
     "name": "stdout",
     "output_type": "stream",
     "text": [
      "18528\n"
     ]
    }
   ],
   "source": [
    "#Genes with no mutations in CCLE and TCGA samples were eliminated.\n",
    "genes_mut_TCGA_CCLE = set(TCGA_maf_matrix.index.values)& set(CCLE_maf_matrix.index.values)\n",
    "print(len(genes_mut_TCGA_CCLE))"
   ]
  },
  {
   "cell_type": "code",
   "execution_count": 151,
   "metadata": {},
   "outputs": [
    {
     "data": {
      "text/plain": [
       "(18528, 10189)"
      ]
     },
     "execution_count": 151,
     "metadata": {},
     "output_type": "execute_result"
    }
   ],
   "source": [
    "TCGA_maf_matrix_r = TCGA_maf_matrix.filter(list(genes_mut_TCGA_CCLE),axis = 0)\n",
    "TCGA_maf_matrix_r.shape"
   ]
  },
  {
   "cell_type": "code",
   "execution_count": 152,
   "metadata": {},
   "outputs": [
    {
     "data": {
      "text/plain": [
       "(18528, 10189)"
      ]
     },
     "execution_count": 152,
     "metadata": {},
     "output_type": "execute_result"
    }
   ],
   "source": [
    "TCGA_maf_score_matrix_r = TCGA_maf_score_matrix.filter(list(genes_mut_TCGA_CCLE),axis = 0)\n",
    "TCGA_maf_score_matrix_r.shape"
   ]
  },
  {
   "cell_type": "code",
   "execution_count": 153,
   "metadata": {},
   "outputs": [
    {
     "data": {
      "text/plain": [
       "(18528, 1585)"
      ]
     },
     "execution_count": 153,
     "metadata": {},
     "output_type": "execute_result"
    }
   ],
   "source": [
    "CCLE_maf_matrix_r = CCLE_maf_matrix.filter(list(genes_mut_TCGA_CCLE),axis = 0)\n",
    "CCLE_maf_matrix_r.shape"
   ]
  },
  {
   "cell_type": "code",
   "execution_count": 154,
   "metadata": {},
   "outputs": [
    {
     "data": {
      "text/plain": [
       "(18528, 1585)"
      ]
     },
     "execution_count": 154,
     "metadata": {},
     "output_type": "execute_result"
    }
   ],
   "source": [
    "CCLE_maf_score_matrix_r = CCLE_maf_score_matrix.filter(list(genes_mut_TCGA_CCLE),axis = 0)\n",
    "CCLE_maf_score_matrix_r.shape"
   ]
  },
  {
   "cell_type": "code",
   "execution_count": 155,
   "metadata": {},
   "outputs": [
    {
     "data": {
      "text/plain": [
       "(17947, 9327)"
      ]
     },
     "execution_count": 155,
     "metadata": {},
     "output_type": "execute_result"
    }
   ],
   "source": [
    "TCGA_exp_matrix_r = TCGA_exp_matrix_f.filter(list(genes_mut_TCGA_CCLE), axis=0)\n",
    "TCGA_exp_matrix_r.shape"
   ]
  },
  {
   "cell_type": "code",
   "execution_count": 156,
   "metadata": {},
   "outputs": [
    {
     "data": {
      "text/plain": [
       "(17947, 1165)"
      ]
     },
     "execution_count": 156,
     "metadata": {},
     "output_type": "execute_result"
    }
   ],
   "source": [
    "CCLE_matrix_r = CCLE_matrix_f.filter(list(genes_mut_TCGA_CCLE), axis=0)\n",
    "CCLE_matrix_r.shape"
   ]
  },
  {
   "cell_type": "code",
   "execution_count": 157,
   "metadata": {},
   "outputs": [
    {
     "name": "stdout",
     "output_type": "stream",
     "text": [
      "(18528, 1585)\n",
      "(17947, 9327)\n",
      "(17947, 1165)\n",
      "(18528, 10189)\n",
      "622\n",
      "N Cell lines with MAF + expression + IC50 information\n",
      "610\n",
      "N genes with MAF and expression in cell lines\n",
      "18189\n",
      "N genes with MAF and expression in cell lines and TCGA\n",
      "17947\n",
      "N of drugs tested on the cell lines\n",
      "265\n",
      "N tumors with TCGA MAF and gene expression\n",
      "9090\n"
     ]
    }
   ],
   "source": [
    "#Summary of data\n",
    "print(CCLE_maf_matrix_r.shape)\n",
    "print(TCGA_exp_matrix_r.shape)\n",
    "print(CCLE_matrix_r.shape)\n",
    "print(TCGA_maf_matrix_r.shape)\n",
    "print(len(IC50_CCLE_imputed.columns)) #cell lines\n",
    "print(\"N Cell lines with MAF + expression + IC50 information\")\n",
    "#Counts of cell lines with MAF + expression + IC50 information\n",
    "print(len( set(IC50_CCLE_imputed.columns) & set(CCLE_maf['CELL_LINE_NAME'].values) & set(CCLE_matrix.columns.values)))\n",
    "#Couts of genes included in expression and MAF files\n",
    "print(\"N genes with MAF and expression in cell lines\")\n",
    "print(len(set(CCLE_maf['Hugo_Symbol'].values) & set(CCLE_matrix.index.values)))\n",
    "print(\"N genes with MAF and expression in cell lines and TCGA\")\n",
    "print(len(set(TCGA_exp_matrix.index) & set(TCGA_maf_matrix.index) & set(CCLE_matrix.index) & set(CCLE_maf_matrix.index)  )) \n",
    "print('N of drugs tested on the cell lines')\n",
    "print(len(IC50_CCLE_imputed.index))\n",
    "#Counts of tumors with TCGA MAF and gene expression\n",
    "print(\"N tumors with TCGA MAF and gene expression\")\n",
    "tumors_TCGA = set(TCGA_maf_matrix.columns.values) & set(TCGA_exp_matrix.columns.values)\n",
    "print(len(tumors_TCGA))\n"
   ]
  },
  {
   "cell_type": "code",
   "execution_count": 159,
   "metadata": {
    "collapsed": true
   },
   "outputs": [],
   "source": [
    "TCGA_exp_matrix_r.head() \n",
    "TCGA_exp_matrix_r.to_csv('E_TCGA.csv')"
   ]
  },
  {
   "cell_type": "code",
   "execution_count": 163,
   "metadata": {
    "collapsed": true
   },
   "outputs": [],
   "source": [
    "CCLE_matrix_r.head() \n",
    "CCLE_matrix_r.to_csv('E_CCLE.csv')"
   ]
  },
  {
   "cell_type": "code",
   "execution_count": 173,
   "metadata": {
    "collapsed": true
   },
   "outputs": [],
   "source": [
    "TCGA_maf_matrix_r.head()\n",
    "TCGA_maf_matrix_r.to_csv('M_TCGA.csv')"
   ]
  },
  {
   "cell_type": "code",
   "execution_count": 171,
   "metadata": {
    "collapsed": true
   },
   "outputs": [],
   "source": [
    "CCLE_maf_matrix_r.head()\n",
    "CCLE_maf_matrix_r.to_csv('M_CCLE.csv')"
   ]
  },
  {
   "cell_type": "code",
   "execution_count": 166,
   "metadata": {
    "collapsed": true
   },
   "outputs": [],
   "source": [
    "IC50.head()\n",
    "IC50.to_csv('IC50_CCLE.csv')"
   ]
  },
  {
   "cell_type": "code",
   "execution_count": 167,
   "metadata": {
    "collapsed": true
   },
   "outputs": [],
   "source": [
    "IC50_CCLE_imputed.to_csv('IC50_CCLE_author.csv')"
   ]
  },
  {
   "cell_type": "code",
   "execution_count": 168,
   "metadata": {},
   "outputs": [
    {
     "name": "stdout",
     "output_type": "stream",
     "text": [
      "567\n"
     ]
    }
   ],
   "source": [
    "print(len( set(IC50.columns) & set(IC50_CCLE_imputed.columns)))"
   ]
  },
  {
   "cell_type": "code",
   "execution_count": 158,
   "metadata": {
    "collapsed": true
   },
   "outputs": [],
   "source": [
    "TCGA_maf_score_matrix_r.head()\n",
    "TCGA_maf_score_matrix_r.to_csv('M_scored_TCGA.csv')"
   ]
  },
  {
   "cell_type": "code",
   "execution_count": 159,
   "metadata": {
    "collapsed": true
   },
   "outputs": [],
   "source": [
    "CCLE_maf_score_matrix_r.head()\n",
    "CCLE_maf_score_matrix_r.to_csv('M_scored_CCLE.csv')"
   ]
  },
  {
   "cell_type": "code",
   "execution_count": null,
   "metadata": {
    "collapsed": true
   },
   "outputs": [],
   "source": []
  }
 ],
 "metadata": {
  "kernelspec": {
   "display_name": "Python (gen)",
   "language": "python",
   "name": "gen"
  },
  "language_info": {
   "codemirror_mode": {
    "name": "ipython",
    "version": 3
   },
   "file_extension": ".py",
   "mimetype": "text/x-python",
   "name": "python",
   "nbconvert_exporter": "python",
   "pygments_lexer": "ipython3",
   "version": "3.6.3"
  }
 },
 "nbformat": 4,
 "nbformat_minor": 2
}
